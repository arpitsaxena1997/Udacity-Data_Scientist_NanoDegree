{
 "cells": [
  {
   "cell_type": "markdown",
   "metadata": {},
   "source": [
    "# Sparkify Project Workspace\n",
    "This workspace contains a tiny subset (128MB) of the full dataset available (12GB). Feel free to use this workspace to build your project, or to explore a smaller subset with Spark before deploying your cluster on the cloud. Instructions for setting up your Spark cluster is included in the last lesson of the Extracurricular Spark Course content.\n",
    "\n",
    "You can follow the steps below to guide your data analysis and model building portion of this project."
   ]
  },
  {
   "cell_type": "code",
   "execution_count": 1,
   "metadata": {},
   "outputs": [],
   "source": [
    "# import libraries\n",
    "import pandas as pd\n",
    "import numpy as np\n",
    "\n",
    "import re\n",
    "import seaborn as sns\n",
    "import matplotlib.pyplot as plt\n",
    "%matplotlib inline\n",
    "\n",
    "#spark imports\n",
    "from pyspark.sql import SparkSession, Window\n",
    "# from pyspark.sql.functions import avg, stddev, split, udf, isnull, first, col, format_number, rand, concat, desc, explode\n",
    "# from pyspark.sql.functions import countDistinct as fcountDistinct\n",
    "# from pyspark.sql.functions import sum as fsum\n",
    "# from pyspark.sql.functions import min as fmin\n",
    "# from pyspark.sql.functions import max as fmax\n",
    "# from pyspark.sql.functions import lit\n",
    "# from pyspark.sql.functions import when as fwhen\n",
    "from pyspark.sql import functions as F\n",
    "from pyspark.sql.types import IntegerType, FloatType\n",
    "\n",
    "from pyspark.ml import Pipeline\n",
    "from pyspark.ml.classification import LogisticRegression, RandomForestClassifier, GBTClassifier, LinearSVC\n",
    "from pyspark.ml.evaluation import MulticlassClassificationEvaluator\n",
    "from pyspark.ml.feature import CountVectorizer, IDF, Normalizer, StandardScaler, StringIndexer, VectorAssembler\n",
    "from pyspark.ml.tuning import CrossValidator, ParamGridBuilder\n"
   ]
  },
  {
   "cell_type": "code",
   "execution_count": 2,
   "metadata": {},
   "outputs": [],
   "source": [
    "# create a Spark session\n",
    "spark = SparkSession.builder.appName(\"Sparkify\").getOrCreate()"
   ]
  },
  {
   "cell_type": "code",
   "execution_count": 3,
   "metadata": {},
   "outputs": [
    {
     "data": {
      "text/html": [
       "\n",
       "            <div>\n",
       "                <p><b>SparkSession - in-memory</b></p>\n",
       "                \n",
       "        <div>\n",
       "            <p><b>SparkContext</b></p>\n",
       "\n",
       "            <p><a href=\"http://6a42d183c86c0509da164fce7124b353d0602185-7667ff6788-l8lz4:4040\">Spark UI</a></p>\n",
       "\n",
       "            <dl>\n",
       "              <dt>Version</dt>\n",
       "                <dd><code>v2.4.3</code></dd>\n",
       "              <dt>Master</dt>\n",
       "                <dd><code>local[*]</code></dd>\n",
       "              <dt>AppName</dt>\n",
       "                <dd><code>Sparkify</code></dd>\n",
       "            </dl>\n",
       "        </div>\n",
       "        \n",
       "            </div>\n",
       "        "
      ],
      "text/plain": [
       "<pyspark.sql.session.SparkSession at 0x7fd77b46e630>"
      ]
     },
     "execution_count": 3,
     "metadata": {},
     "output_type": "execute_result"
    }
   ],
   "source": [
    "# checking spark working and its details\n",
    "spark"
   ]
  },
  {
   "cell_type": "code",
   "execution_count": 4,
   "metadata": {},
   "outputs": [
    {
     "data": {
      "text/plain": [
       "[('spark.driver.port', '38595'),\n",
       " ('spark.app.id', 'local-1702271482172'),\n",
       " ('spark.rdd.compress', 'True'),\n",
       " ('spark.app.name', 'Sparkify'),\n",
       " ('spark.driver.host',\n",
       "  '6a42d183c86c0509da164fce7124b353d0602185-7667ff6788-l8lz4'),\n",
       " ('spark.serializer.objectStreamReset', '100'),\n",
       " ('spark.master', 'local[*]'),\n",
       " ('spark.executor.id', 'driver'),\n",
       " ('spark.submit.deployMode', 'client'),\n",
       " ('spark.ui.showConsoleProgress', 'true')]"
      ]
     },
     "execution_count": 4,
     "metadata": {},
     "output_type": "execute_result"
    }
   ],
   "source": [
    "spark.sparkContext.getConf().getAll()"
   ]
  },
  {
   "cell_type": "markdown",
   "metadata": {},
   "source": [
    "# Load and Clean Dataset\n",
    "In this workspace, the mini-dataset file is `mini_sparkify_event_data.json`. Load and clean the dataset, checking for invalid or missing data - for example, records without userids or sessionids. "
   ]
  },
  {
   "cell_type": "code",
   "execution_count": 5,
   "metadata": {},
   "outputs": [],
   "source": [
    "df = spark.read.json('mini_sparkify_event_data.json')"
   ]
  },
  {
   "cell_type": "code",
   "execution_count": 6,
   "metadata": {},
   "outputs": [
    {
     "data": {
      "text/plain": [
       "286500"
      ]
     },
     "execution_count": 6,
     "metadata": {},
     "output_type": "execute_result"
    }
   ],
   "source": [
    "df.count()"
   ]
  },
  {
   "cell_type": "code",
   "execution_count": 7,
   "metadata": {},
   "outputs": [
    {
     "data": {
      "text/plain": [
       "18"
      ]
     },
     "execution_count": 7,
     "metadata": {},
     "output_type": "execute_result"
    }
   ],
   "source": [
    "len(df.columns)"
   ]
  },
  {
   "cell_type": "code",
   "execution_count": 8,
   "metadata": {},
   "outputs": [
    {
     "name": "stdout",
     "output_type": "stream",
     "text": [
      "root\n",
      " |-- artist: string (nullable = true)\n",
      " |-- auth: string (nullable = true)\n",
      " |-- firstName: string (nullable = true)\n",
      " |-- gender: string (nullable = true)\n",
      " |-- itemInSession: long (nullable = true)\n",
      " |-- lastName: string (nullable = true)\n",
      " |-- length: double (nullable = true)\n",
      " |-- level: string (nullable = true)\n",
      " |-- location: string (nullable = true)\n",
      " |-- method: string (nullable = true)\n",
      " |-- page: string (nullable = true)\n",
      " |-- registration: long (nullable = true)\n",
      " |-- sessionId: long (nullable = true)\n",
      " |-- song: string (nullable = true)\n",
      " |-- status: long (nullable = true)\n",
      " |-- ts: long (nullable = true)\n",
      " |-- userAgent: string (nullable = true)\n",
      " |-- userId: string (nullable = true)\n",
      "\n"
     ]
    }
   ],
   "source": [
    "df.printSchema()"
   ]
  },
  {
   "cell_type": "code",
   "execution_count": 9,
   "metadata": {},
   "outputs": [
    {
     "name": "stdout",
     "output_type": "stream",
     "text": [
      "+----------------+---------+---------+------+-------------+--------+---------+-----+------------------------------+------+--------+-------------+---------+-----------------------------+------+-------------+---------------------------------------------------------------------------------------------------------------+------+\n",
      "|artist          |auth     |firstName|gender|itemInSession|lastName|length   |level|location                      |method|page    |registration |sessionId|song                         |status|ts           |userAgent                                                                                                      |userId|\n",
      "+----------------+---------+---------+------+-------------+--------+---------+-----+------------------------------+------+--------+-------------+---------+-----------------------------+------+-------------+---------------------------------------------------------------------------------------------------------------+------+\n",
      "|Martha Tilston  |Logged In|Colin    |M     |50           |Freeman |277.89016|paid |Bakersfield, CA               |PUT   |NextSong|1538173362000|29       |Rockpools                    |200   |1538352117000|Mozilla/5.0 (Windows NT 6.1; WOW64; rv:31.0) Gecko/20100101 Firefox/31.0                                       |30    |\n",
      "|Five Iron Frenzy|Logged In|Micah    |M     |79           |Long    |236.09424|free |Boston-Cambridge-Newton, MA-NH|PUT   |NextSong|1538331630000|8        |Canada                       |200   |1538352180000|\"Mozilla/5.0 (Windows NT 6.1; WOW64) AppleWebKit/537.36 (KHTML, like Gecko) Chrome/37.0.2062.103 Safari/537.36\"|9     |\n",
      "|Adam Lambert    |Logged In|Colin    |M     |51           |Freeman |282.8273 |paid |Bakersfield, CA               |PUT   |NextSong|1538173362000|29       |Time For Miracles            |200   |1538352394000|Mozilla/5.0 (Windows NT 6.1; WOW64; rv:31.0) Gecko/20100101 Firefox/31.0                                       |30    |\n",
      "|Enigma          |Logged In|Micah    |M     |80           |Long    |262.71302|free |Boston-Cambridge-Newton, MA-NH|PUT   |NextSong|1538331630000|8        |Knocking On Forbidden Doors  |200   |1538352416000|\"Mozilla/5.0 (Windows NT 6.1; WOW64) AppleWebKit/537.36 (KHTML, like Gecko) Chrome/37.0.2062.103 Safari/537.36\"|9     |\n",
      "|Daft Punk       |Logged In|Colin    |M     |52           |Freeman |223.60771|paid |Bakersfield, CA               |PUT   |NextSong|1538173362000|29       |Harder Better Faster Stronger|200   |1538352676000|Mozilla/5.0 (Windows NT 6.1; WOW64; rv:31.0) Gecko/20100101 Firefox/31.0                                       |30    |\n",
      "+----------------+---------+---------+------+-------------+--------+---------+-----+------------------------------+------+--------+-------------+---------+-----------------------------+------+-------------+---------------------------------------------------------------------------------------------------------------+------+\n",
      "only showing top 5 rows\n",
      "\n"
     ]
    }
   ],
   "source": [
    "df.show(5, False)"
   ]
  },
  {
   "cell_type": "code",
   "execution_count": 10,
   "metadata": {},
   "outputs": [
    {
     "name": "stdout",
     "output_type": "stream",
     "text": [
      "+------+-----+\n",
      "|userId|count|\n",
      "+------+-----+\n",
      "|100010|  381|\n",
      "|200002|  474|\n",
      "|   125|   11|\n",
      "|    51| 2464|\n",
      "|   124| 4825|\n",
      "|     7|  201|\n",
      "|    54| 3437|\n",
      "|    15| 2278|\n",
      "|   155| 1002|\n",
      "|   132| 2304|\n",
      "|   154|  118|\n",
      "|100014|  310|\n",
      "|   101| 2149|\n",
      "|    11|  848|\n",
      "|   138| 2469|\n",
      "|300017| 4428|\n",
      "|    29| 3603|\n",
      "|    69| 1342|\n",
      "|100021|  319|\n",
      "|    42| 4257|\n",
      "+------+-----+\n",
      "only showing top 20 rows\n",
      "\n"
     ]
    }
   ],
   "source": [
    "df.groupBy('userId').count().show()"
   ]
  },
  {
   "cell_type": "code",
   "execution_count": 11,
   "metadata": {},
   "outputs": [
    {
     "name": "stdout",
     "output_type": "stream",
     "text": [
      "+------+-----+\n",
      "|userId|count|\n",
      "+------+-----+\n",
      "|   135|    6|\n",
      "|   156|    6|\n",
      "|   125|   11|\n",
      "|100011|   23|\n",
      "|300003|   35|\n",
      "|100024|   36|\n",
      "|    22|   40|\n",
      "|100006|   44|\n",
      "|   133|   44|\n",
      "|    90|   45|\n",
      "|    68|   48|\n",
      "|   134|   52|\n",
      "|   122|   62|\n",
      "|    64|   68|\n",
      "|    34|   73|\n",
      "|100017|   75|\n",
      "|200007|   76|\n",
      "|100003|   78|\n",
      "|   116|   79|\n",
      "|200012|   84|\n",
      "+------+-----+\n",
      "only showing top 20 rows\n",
      "\n"
     ]
    }
   ],
   "source": [
    "df.groupBy('userId').count().orderBy('count').show()"
   ]
  },
  {
   "cell_type": "code",
   "execution_count": 12,
   "metadata": {},
   "outputs": [
    {
     "name": "stdout",
     "output_type": "stream",
     "text": [
      "+------+-----+\n",
      "|userId|count|\n",
      "+------+-----+\n",
      "|    39| 9632|\n",
      "|      | 8346|\n",
      "|    92| 7230|\n",
      "|   140| 6880|\n",
      "|300011| 5732|\n",
      "|   124| 4825|\n",
      "|300021| 4659|\n",
      "|300017| 4428|\n",
      "|    85| 4370|\n",
      "|    42| 4257|\n",
      "|200023| 3769|\n",
      "|     6| 3761|\n",
      "|    29| 3603|\n",
      "|    54| 3437|\n",
      "|   100| 3214|\n",
      "|     9| 3191|\n",
      "|   126| 3102|\n",
      "|300015| 3051|\n",
      "|    91| 3014|\n",
      "|    98| 2891|\n",
      "+------+-----+\n",
      "only showing top 20 rows\n",
      "\n"
     ]
    }
   ],
   "source": [
    "df.groupBy('userId').count().orderBy('count', ascending=False).show()"
   ]
  },
  {
   "cell_type": "code",
   "execution_count": 13,
   "metadata": {},
   "outputs": [
    {
     "name": "stdout",
     "output_type": "stream",
     "text": [
      "+-------+------------------+\n",
      "|summary|            userId|\n",
      "+-------+------------------+\n",
      "|  count|            286500|\n",
      "|   mean| 59682.02278593872|\n",
      "| stddev|109091.94999910535|\n",
      "|    min|                  |\n",
      "|    max|                99|\n",
      "+-------+------------------+\n",
      "\n"
     ]
    }
   ],
   "source": [
    "df.describe('userId').show()"
   ]
  },
  {
   "cell_type": "code",
   "execution_count": 14,
   "metadata": {},
   "outputs": [
    {
     "data": {
      "text/plain": [
       "0"
      ]
     },
     "execution_count": 14,
     "metadata": {},
     "output_type": "execute_result"
    }
   ],
   "source": [
    "#Finding and cleaning Nan/Null/empty values \n",
    "df.filter(df['userId'].isNull()).count()"
   ]
  },
  {
   "cell_type": "code",
   "execution_count": 15,
   "metadata": {},
   "outputs": [
    {
     "data": {
      "text/plain": [
       "8346"
      ]
     },
     "execution_count": 15,
     "metadata": {},
     "output_type": "execute_result"
    }
   ],
   "source": [
    "df.filter(df['userId']=='').count()"
   ]
  },
  {
   "cell_type": "code",
   "execution_count": 16,
   "metadata": {},
   "outputs": [
    {
     "name": "stdout",
     "output_type": "stream",
     "text": [
      "+------+----+---------+------+-------------+--------+------+-----+--------+------+----+------------+---------+-----+------+---+---------+------+\n",
      "|artist|auth|firstName|gender|itemInSession|lastName|length|level|location|method|page|registration|sessionId| song|status| ts|userAgent|userId|\n",
      "+------+----+---------+------+-------------+--------+------+-----+--------+------+----+------------+---------+-----+------+---+---------+------+\n",
      "| 58392|   0|     8346|  8346|            0|    8346| 58392|    0|    8346|     0|   0|        8346|        0|58392|     0|  0|     8346|     0|\n",
      "+------+----+---------+------+-------------+--------+------+-----+--------+------+----+------------+---------+-----+------+---+---------+------+\n",
      "\n"
     ]
    }
   ],
   "source": [
    "df.select([F.count(F.when(F.isnan(c) | F.col(c).isNull(), c)).alias(c) for c in df.columns]).show()"
   ]
  },
  {
   "cell_type": "code",
   "execution_count": 17,
   "metadata": {},
   "outputs": [
    {
     "data": {
      "text/plain": [
       "(286500, 228108)"
      ]
     },
     "execution_count": 17,
     "metadata": {},
     "output_type": "execute_result"
    }
   ],
   "source": [
    "df_notNull = df.na.drop()\n",
    "df.count(), df_notNull.count()"
   ]
  },
  {
   "cell_type": "code",
   "execution_count": 18,
   "metadata": {},
   "outputs": [
    {
     "name": "stdout",
     "output_type": "stream",
     "text": [
      "+------+----+---------+------+-------------+--------+------+-----+--------+------+----+------------+---------+----+------+---+---------+------+\n",
      "|artist|auth|firstName|gender|itemInSession|lastName|length|level|location|method|page|registration|sessionId|song|status| ts|userAgent|userId|\n",
      "+------+----+---------+------+-------------+--------+------+-----+--------+------+----+------------+---------+----+------+---+---------+------+\n",
      "|     0|   0|        0|     0|            0|       0|     0|    0|       0|     0|   0|           0|        0|   0|     0|  0|        0|     0|\n",
      "+------+----+---------+------+-------------+--------+------+-----+--------+------+----+------------+---------+----+------+---+---------+------+\n",
      "\n"
     ]
    }
   ],
   "source": [
    "df_notNull.select([F.count(F.when(F.isnan(c) | F.col(c).isNull(), c)).alias(c) for c in df.columns]).show()"
   ]
  },
  {
   "cell_type": "code",
   "execution_count": 19,
   "metadata": {},
   "outputs": [
    {
     "data": {
      "text/plain": [
       "0"
      ]
     },
     "execution_count": 19,
     "metadata": {},
     "output_type": "execute_result"
    }
   ],
   "source": [
    "df_notNull.filter(df_notNull['userId']=='').count()"
   ]
  },
  {
   "cell_type": "code",
   "execution_count": 20,
   "metadata": {},
   "outputs": [
    {
     "data": {
      "text/plain": [
       "(286500, 278154, 228108)"
      ]
     },
     "execution_count": 20,
     "metadata": {},
     "output_type": "execute_result"
    }
   ],
   "source": [
    "df_filtered = df.filter(df['userId'] != '')\n",
    "df.count(), df_filtered.count(), df_notNull.count()"
   ]
  },
  {
   "cell_type": "code",
   "execution_count": 21,
   "metadata": {},
   "outputs": [
    {
     "name": "stdout",
     "output_type": "stream",
     "text": [
      "+------+----+---------+------+-------------+--------+------+-----+--------+------+----+------------+---------+-----+------+---+---------+------+\n",
      "|artist|auth|firstName|gender|itemInSession|lastName|length|level|location|method|page|registration|sessionId| song|status| ts|userAgent|userId|\n",
      "+------+----+---------+------+-------------+--------+------+-----+--------+------+----+------------+---------+-----+------+---+---------+------+\n",
      "| 50046|   0|        0|     0|            0|       0| 50046|    0|       0|     0|   0|           0|        0|50046|     0|  0|        0|     0|\n",
      "+------+----+---------+------+-------------+--------+------+-----+--------+------+----+------------+---------+-----+------+---+---------+------+\n",
      "\n"
     ]
    }
   ],
   "source": [
    "df_filtered.select([F.count(F.when(F.isnan(c) | F.col(c).isNull(), c)).alias(c) for c in df.columns]).show()"
   ]
  },
  {
   "cell_type": "code",
   "execution_count": 22,
   "metadata": {},
   "outputs": [],
   "source": [
    "#moving ahead with df_notNull output\n",
    "#changing its name, because its too long to type again and again\n",
    "dfn = df_notNull"
   ]
  },
  {
   "cell_type": "code",
   "execution_count": null,
   "metadata": {},
   "outputs": [],
   "source": []
  },
  {
   "cell_type": "markdown",
   "metadata": {},
   "source": [
    "# Exploratory Data Analysis\n",
    "When you're working with the full dataset, perform EDA by loading a small subset of the data and doing basic manipulations within Spark. In this workspace, you are already provided a small subset of data you can explore."
   ]
  },
  {
   "cell_type": "markdown",
   "metadata": {},
   "source": [
    "#discovering about timestamp"
   ]
  },
  {
   "cell_type": "code",
   "execution_count": 23,
   "metadata": {},
   "outputs": [
    {
     "name": "stdout",
     "output_type": "stream",
     "text": [
      "+-------+--------------------+\n",
      "|summary|                  ts|\n",
      "+-------+--------------------+\n",
      "|  count|              286500|\n",
      "|   mean|1.540956889810471...|\n",
      "| stddev| 1.507543960819624E9|\n",
      "|    min|       1538352117000|\n",
      "|    max|       1543799476000|\n",
      "+-------+--------------------+\n",
      "\n"
     ]
    }
   ],
   "source": [
    "df.describe('ts').show()"
   ]
  },
  {
   "cell_type": "code",
   "execution_count": 24,
   "metadata": {},
   "outputs": [
    {
     "name": "stdout",
     "output_type": "stream",
     "text": [
      "+-------+--------------------+\n",
      "|summary|                  ts|\n",
      "+-------+--------------------+\n",
      "|  count|              278154|\n",
      "|   mean|1.540958915431858E12|\n",
      "| stddev|1.5068287123339083E9|\n",
      "|    min|       1538352117000|\n",
      "|    max|       1543799476000|\n",
      "+-------+--------------------+\n",
      "\n"
     ]
    }
   ],
   "source": [
    "df_filtered.describe('ts').show()"
   ]
  },
  {
   "cell_type": "code",
   "execution_count": 25,
   "metadata": {},
   "outputs": [
    {
     "name": "stdout",
     "output_type": "stream",
     "text": [
      "+-------+--------------------+\n",
      "|summary|                  ts|\n",
      "+-------+--------------------+\n",
      "|  count|              228108|\n",
      "|   mean|1.540971261994704...|\n",
      "| stddev|1.5021965831700122E9|\n",
      "|    min|       1538352117000|\n",
      "|    max|       1543799476000|\n",
      "+-------+--------------------+\n",
      "\n"
     ]
    }
   ],
   "source": [
    "df_notNull.describe('ts').show()"
   ]
  },
  {
   "cell_type": "code",
   "execution_count": null,
   "metadata": {},
   "outputs": [],
   "source": []
  },
  {
   "cell_type": "markdown",
   "metadata": {},
   "source": [
    "discovering about lenth of somgs"
   ]
  },
  {
   "cell_type": "code",
   "execution_count": 26,
   "metadata": {},
   "outputs": [
    {
     "name": "stdout",
     "output_type": "stream",
     "text": [
      "+---------+\n",
      "|   length|\n",
      "+---------+\n",
      "|277.89016|\n",
      "|236.09424|\n",
      "| 282.8273|\n",
      "|262.71302|\n",
      "|223.60771|\n",
      "+---------+\n",
      "only showing top 5 rows\n",
      "\n"
     ]
    }
   ],
   "source": [
    "df_notNull.select(df_notNull.length).show(5)"
   ]
  },
  {
   "cell_type": "code",
   "execution_count": 27,
   "metadata": {},
   "outputs": [
    {
     "name": "stdout",
     "output_type": "stream",
     "text": [
      "+-------+------------------+\n",
      "|summary|            length|\n",
      "+-------+------------------+\n",
      "|  count|            228108|\n",
      "|   mean|249.11718197783375|\n",
      "| stddev| 99.23517921058324|\n",
      "|    min|           0.78322|\n",
      "|    max|        3024.66567|\n",
      "+-------+------------------+\n",
      "\n"
     ]
    }
   ],
   "source": [
    "df_notNull.select(df_notNull.length).describe().show()"
   ]
  },
  {
   "cell_type": "code",
   "execution_count": 28,
   "metadata": {},
   "outputs": [
    {
     "data": {
      "text/html": [
       "<div>\n",
       "<style scoped>\n",
       "    .dataframe tbody tr th:only-of-type {\n",
       "        vertical-align: middle;\n",
       "    }\n",
       "\n",
       "    .dataframe tbody tr th {\n",
       "        vertical-align: top;\n",
       "    }\n",
       "\n",
       "    .dataframe thead th {\n",
       "        text-align: right;\n",
       "    }\n",
       "</style>\n",
       "<table border=\"1\" class=\"dataframe\">\n",
       "  <thead>\n",
       "    <tr style=\"text-align: right;\">\n",
       "      <th></th>\n",
       "      <th>length</th>\n",
       "    </tr>\n",
       "  </thead>\n",
       "  <tbody>\n",
       "    <tr>\n",
       "      <th>count</th>\n",
       "      <td>228108.000000</td>\n",
       "    </tr>\n",
       "    <tr>\n",
       "      <th>mean</th>\n",
       "      <td>249.117182</td>\n",
       "    </tr>\n",
       "    <tr>\n",
       "      <th>std</th>\n",
       "      <td>99.235179</td>\n",
       "    </tr>\n",
       "    <tr>\n",
       "      <th>min</th>\n",
       "      <td>0.783220</td>\n",
       "    </tr>\n",
       "    <tr>\n",
       "      <th>25%</th>\n",
       "      <td>199.888530</td>\n",
       "    </tr>\n",
       "    <tr>\n",
       "      <th>50%</th>\n",
       "      <td>234.500770</td>\n",
       "    </tr>\n",
       "    <tr>\n",
       "      <th>75%</th>\n",
       "      <td>277.158730</td>\n",
       "    </tr>\n",
       "    <tr>\n",
       "      <th>max</th>\n",
       "      <td>3024.665670</td>\n",
       "    </tr>\n",
       "  </tbody>\n",
       "</table>\n",
       "</div>"
      ],
      "text/plain": [
       "              length\n",
       "count  228108.000000\n",
       "mean      249.117182\n",
       "std        99.235179\n",
       "min         0.783220\n",
       "25%       199.888530\n",
       "50%       234.500770\n",
       "75%       277.158730\n",
       "max      3024.665670"
      ]
     },
     "execution_count": 28,
     "metadata": {},
     "output_type": "execute_result"
    }
   ],
   "source": [
    "df_notNull.select(df_notNull.length).toPandas().describe()"
   ]
  },
  {
   "cell_type": "code",
   "execution_count": 29,
   "metadata": {},
   "outputs": [
    {
     "data": {
      "text/plain": [
       "<matplotlib.axes._subplots.AxesSubplot at 0x7fd77bab67b8>"
      ]
     },
     "execution_count": 29,
     "metadata": {},
     "output_type": "execute_result"
    },
    {
     "data": {
      "image/png": "[encoded data removed]",
      "text/plain": [
       "<matplotlib.figure.Figure at 0x7fd7c563d588>"
      ]
     },
     "metadata": {
      "needs_background": "light"
     },
     "output_type": "display_data"
    }
   ],
   "source": [
    "sns.distplot(df_notNull.select(df_notNull.length).toPandas())"
   ]
  },
  {
   "cell_type": "code",
   "execution_count": 30,
   "metadata": {},
   "outputs": [
    {
     "data": {
      "text/plain": [
       "<matplotlib.axes._subplots.AxesSubplot at 0x7fd77bacd588>"
      ]
     },
     "execution_count": 30,
     "metadata": {},
     "output_type": "execute_result"
    },
    {
     "data": {
      "image/png": "[encoded data removed]",
      "text/plain": [
       "<matplotlib.figure.Figure at 0x7fd77bae2ef0>"
      ]
     },
     "metadata": {
      "needs_background": "light"
     },
     "output_type": "display_data"
    }
   ],
   "source": [
    "sns.boxplot(df_notNull.select(df_notNull.length).toPandas())"
   ]
  },
  {
   "cell_type": "code",
   "execution_count": null,
   "metadata": {},
   "outputs": [],
   "source": []
  },
  {
   "cell_type": "code",
   "execution_count": 31,
   "metadata": {},
   "outputs": [],
   "source": [
    "#discovering gender"
   ]
  },
  {
   "cell_type": "code",
   "execution_count": 32,
   "metadata": {},
   "outputs": [
    {
     "name": "stdout",
     "output_type": "stream",
     "text": [
      "228108\n",
      "+------+------+\n",
      "|userId|gender|\n",
      "+------+------+\n",
      "|    30|     M|\n",
      "|     9|     M|\n",
      "|    30|     M|\n",
      "|     9|     M|\n",
      "|    30|     M|\n",
      "+------+------+\n",
      "only showing top 5 rows\n",
      "\n",
      "225\n"
     ]
    }
   ],
   "source": [
    "df_gender = dfn.select(['userId', 'gender'])\n",
    "print(df_gender.count())\n",
    "df_gender.show(5)\n",
    "\n",
    "print(df_gender.distinct().count())"
   ]
  },
  {
   "cell_type": "code",
   "execution_count": 33,
   "metadata": {},
   "outputs": [
    {
     "name": "stdout",
     "output_type": "stream",
     "text": [
      "+------+-----+\n",
      "|gender|count|\n",
      "+------+-----+\n",
      "|     F|  104|\n",
      "|     M|  121|\n",
      "+------+-----+\n",
      "\n"
     ]
    }
   ],
   "source": [
    "df_gender = df_gender.distinct()\n",
    "\n",
    "count_gender = df_gender.groupBy('gender').count()\n",
    "count_gender.show()"
   ]
  },
  {
   "cell_type": "code",
   "execution_count": 34,
   "metadata": {},
   "outputs": [
    {
     "data": {
      "text/plain": [
       "<matplotlib.axes._subplots.AxesSubplot at 0x7fd7719f6400>"
      ]
     },
     "execution_count": 34,
     "metadata": {},
     "output_type": "execute_result"
    },
    {
     "data": {
      "image/png": "[encoded data removed]",
      "text/plain": [
       "<matplotlib.figure.Figure at 0x7fd7719d8470>"
      ]
     },
     "metadata": {
      "needs_background": "light"
     },
     "output_type": "display_data"
    }
   ],
   "source": [
    "sns.barplot(x='gender', y='count', data=count_gender.toPandas())"
   ]
  },
  {
   "cell_type": "code",
   "execution_count": null,
   "metadata": {},
   "outputs": [],
   "source": []
  },
  {
   "cell_type": "code",
   "execution_count": 35,
   "metadata": {},
   "outputs": [],
   "source": [
    "# paid/free users"
   ]
  },
  {
   "cell_type": "code",
   "execution_count": 36,
   "metadata": {},
   "outputs": [
    {
     "name": "stdout",
     "output_type": "stream",
     "text": [
      "+-------+------+\n",
      "|summary| level|\n",
      "+-------+------+\n",
      "|  count|228108|\n",
      "|   mean|  null|\n",
      "| stddev|  null|\n",
      "|    min|  free|\n",
      "|    max|  paid|\n",
      "+-------+------+\n",
      "\n"
     ]
    }
   ],
   "source": [
    "dfn.describe('level').show()"
   ]
  },
  {
   "cell_type": "code",
   "execution_count": 37,
   "metadata": {},
   "outputs": [
    {
     "data": {
      "text/html": [
       "<div>\n",
       "<style scoped>\n",
       "    .dataframe tbody tr th:only-of-type {\n",
       "        vertical-align: middle;\n",
       "    }\n",
       "\n",
       "    .dataframe tbody tr th {\n",
       "        vertical-align: top;\n",
       "    }\n",
       "\n",
       "    .dataframe thead th {\n",
       "        text-align: right;\n",
       "    }\n",
       "</style>\n",
       "<table border=\"1\" class=\"dataframe\">\n",
       "  <thead>\n",
       "    <tr style=\"text-align: right;\">\n",
       "      <th></th>\n",
       "      <th>level</th>\n",
       "    </tr>\n",
       "  </thead>\n",
       "  <tbody>\n",
       "    <tr>\n",
       "      <th>count</th>\n",
       "      <td>228108</td>\n",
       "    </tr>\n",
       "    <tr>\n",
       "      <th>unique</th>\n",
       "      <td>2</td>\n",
       "    </tr>\n",
       "    <tr>\n",
       "      <th>top</th>\n",
       "      <td>paid</td>\n",
       "    </tr>\n",
       "    <tr>\n",
       "      <th>freq</th>\n",
       "      <td>186117</td>\n",
       "    </tr>\n",
       "  </tbody>\n",
       "</table>\n",
       "</div>"
      ],
      "text/plain": [
       "         level\n",
       "count   228108\n",
       "unique       2\n",
       "top       paid\n",
       "freq    186117"
      ]
     },
     "execution_count": 37,
     "metadata": {},
     "output_type": "execute_result"
    }
   ],
   "source": [
    "dfn.select(dfn.level).toPandas().describe()"
   ]
  },
  {
   "cell_type": "code",
   "execution_count": 38,
   "metadata": {},
   "outputs": [
    {
     "name": "stdout",
     "output_type": "stream",
     "text": [
      "+-----+-----+\n",
      "|level|count|\n",
      "+-----+-----+\n",
      "| free|  195|\n",
      "| paid|  164|\n",
      "+-----+-----+\n",
      "\n"
     ]
    }
   ],
   "source": [
    "df_level = dfn.select(['userId', 'level']).distinct().groupBy('level').count()\n",
    "df_level.show()"
   ]
  },
  {
   "cell_type": "code",
   "execution_count": 39,
   "metadata": {},
   "outputs": [
    {
     "data": {
      "text/plain": [
       "<matplotlib.axes._subplots.AxesSubplot at 0x7fd7c4b994a8>"
      ]
     },
     "execution_count": 39,
     "metadata": {},
     "output_type": "execute_result"
    },
    {
     "data": {
      "image/png": "[encoded data removed]",
      "text/plain": [
       "<matplotlib.figure.Figure at 0x7fd7c4b99ef0>"
      ]
     },
     "metadata": {
      "needs_background": "light"
     },
     "output_type": "display_data"
    }
   ],
   "source": [
    "sns.barplot(x='level', y='count', data=df_level.toPandas())"
   ]
  },
  {
   "cell_type": "code",
   "execution_count": null,
   "metadata": {},
   "outputs": [],
   "source": []
  },
  {
   "cell_type": "code",
   "execution_count": 40,
   "metadata": {},
   "outputs": [
    {
     "name": "stdout",
     "output_type": "stream",
     "text": [
      "+-------+--------+\n",
      "|summary|    page|\n",
      "+-------+--------+\n",
      "|  count|  228108|\n",
      "|   mean|    null|\n",
      "| stddev|    null|\n",
      "|    min|NextSong|\n",
      "|    max|NextSong|\n",
      "+-------+--------+\n",
      "\n"
     ]
    }
   ],
   "source": [
    "dfn.describe('page').show()"
   ]
  },
  {
   "cell_type": "code",
   "execution_count": 41,
   "metadata": {},
   "outputs": [
    {
     "name": "stdout",
     "output_type": "stream",
     "text": [
      "+--------+\n",
      "|    page|\n",
      "+--------+\n",
      "|NextSong|\n",
      "+--------+\n",
      "\n"
     ]
    }
   ],
   "source": [
    "dfn.select(['page']).distinct().show()"
   ]
  },
  {
   "cell_type": "code",
   "execution_count": null,
   "metadata": {},
   "outputs": [],
   "source": []
  },
  {
   "cell_type": "markdown",
   "metadata": {},
   "source": [
    "### Define Churn\n",
    "\n",
    "Once you've done some preliminary analysis, create a column `Churn` to use as the label for your model. I suggest using the `Cancellation Confirmation` events to define your churn, which happen for both paid and free users. As a bonus task, you can also look into the `Downgrade` events."
   ]
  },
  {
   "cell_type": "code",
   "execution_count": 42,
   "metadata": {},
   "outputs": [],
   "source": [
    "churn_test= F.udf(lambda x : 1 if x=='Cancellation Confirmation' else 0, IntegerType())"
   ]
  },
  {
   "cell_type": "code",
   "execution_count": 43,
   "metadata": {},
   "outputs": [
    {
     "name": "stdout",
     "output_type": "stream",
     "text": [
      "+-------+--------------------+\n",
      "|summary|          Churn_test|\n",
      "+-------+--------------------+\n",
      "|  count|              278154|\n",
      "|   mean|1.869467992550889E-4|\n",
      "| stddev|0.013671595449116171|\n",
      "|    min|                   0|\n",
      "|    max|                   1|\n",
      "+-------+--------------------+\n",
      "\n"
     ]
    }
   ],
   "source": [
    "df_churn = df_filtered.withColumn('Churn_test',churn_test('page'))\n",
    "df_churn.describe('Churn_test').show()"
   ]
  },
  {
   "cell_type": "code",
   "execution_count": 44,
   "metadata": {},
   "outputs": [
    {
     "name": "stdout",
     "output_type": "stream",
     "text": [
      "+------+---------+---------+------+-------------+---------+------+-----+--------------------+------+--------------------+-------------+---------+----+------+-------------+--------------------+------+----------+\n",
      "|artist|     auth|firstName|gender|itemInSession| lastName|length|level|            location|method|                page| registration|sessionId|song|status|           ts|           userAgent|userId|Churn_test|\n",
      "+------+---------+---------+------+-------------+---------+------+-----+--------------------+------+--------------------+-------------+---------+----+------+-------------+--------------------+------+----------+\n",
      "|  null|Cancelled|   Adriel|     M|          104|  Mendoza|  null| paid|  Kansas City, MO-KS|   GET|Cancellation Conf...|1535623466000|      514|null|   200|1538943990000|\"Mozilla/5.0 (Mac...|    18|         1|\n",
      "|  null|Cancelled|    Diego|     M|           56|    Mckee|  null| paid|Phoenix-Mesa-Scot...|   GET|Cancellation Conf...|1537167593000|      540|null|   200|1539033046000|\"Mozilla/5.0 (iPh...|    32|         1|\n",
      "|  null|Cancelled|    Mason|     M|           10|     Hart|  null| free|  Corpus Christi, TX|   GET|Cancellation Conf...|1533157139000|      174|null|   200|1539318918000|\"Mozilla/5.0 (Mac...|   125|         1|\n",
      "|  null|Cancelled|Alexander|     M|          332|   Garcia|  null| paid|Indianapolis-Carm...|   GET|Cancellation Conf...|1536817381000|      508|null|   200|1539375441000|Mozilla/5.0 (Wind...|   105|         1|\n",
      "|  null|Cancelled|    Kayla|     F|          273|  Johnson|  null| paid|Philadelphia-Camd...|   GET|Cancellation Conf...|1538333829000|      797|null|   200|1539465584000|Mozilla/5.0 (Wind...|    17|         1|\n",
      "|  null|Cancelled|    Molly|     F|           29| Harrison|  null| free|Virginia Beach-No...|   GET|Cancellation Conf...|1534255113000|      843|null|   200|1539588854000|\"Mozilla/5.0 (Mac...|   143|         1|\n",
      "|  null|Cancelled|     Alex|     M|          145|    Hogan|  null| paid|Denver-Aurora-Lak...|   GET|Cancellation Conf...|1535066380000|      842|null|   200|1539729037000|Mozilla/5.0 (Wind...|   101|         1|\n",
      "|  null|Cancelled|    Davis|     M|           34|     Wang|  null| paid|           Flint, MI|   GET|Cancellation Conf...|1538289776000|      802|null|   200|1539736161000|\"Mozilla/5.0 (Win...|   129|         1|\n",
      "|  null|Cancelled|  Nikolas|     M|          287|    Olsen|  null| paid|Oxnard-Thousand O...|   GET|Cancellation Conf...|1528403713000|      881|null|   200|1539759749000|Mozilla/5.0 (X11;...|   121|         1|\n",
      "|  null|Cancelled|    Ethan|     M|          176|  Johnson|  null| paid|Lexington-Fayette...|   GET|Cancellation Conf...|1538080987000|      934|null|   200|1539761972000|\"Mozilla/5.0 (Win...|    51|         1|\n",
      "|  null|Cancelled|Christian|     M|          100| Robinson|  null| paid|       Quincy, IL-MO|   GET|Cancellation Conf...|1534942082000|     1092|null|   200|1540050556000|\"Mozilla/5.0 (Win...|    87|         1|\n",
      "|  null|Cancelled|    Molly|     F|           43|Patterson|  null| paid|   Memphis, TN-MS-AR|   GET|Cancellation Conf...|1535498705000|     1029|null|   200|1540062068000|Mozilla/5.0 (X11;...|   122|         1|\n",
      "|  null|Cancelled|   Sophia|     F|           72|    Perry|  null| paid|Los Angeles-Long ...|   GET|Cancellation Conf...|1533885783000|     1072|null|   200|1540193374000|Mozilla/5.0 (Wind...|    12|         1|\n",
      "|  null|Cancelled|    Erick|     M|           48|   Brooks|  null| paid|           Selma, AL|   GET|Cancellation Conf...|1537956751000|     1112|null|   200|1540223006000|\"Mozilla/5.0 (Win...|    58|         1|\n",
      "|  null|Cancelled|   Rachel|     F|           11|   Bailey|  null| paid|Albany-Schenectad...|   GET|Cancellation Conf...|1536102943000|     1059|null|   200|1540402387000|Mozilla/5.0 (Wind...|    73|         1|\n",
      "|  null|Cancelled|  Jeffery|     M|           46|  Wheeler|  null| paid|         Bozeman, MT|   GET|Cancellation Conf...|1533886191000|     1324|null|   200|1540875543000|\"Mozilla/5.0 (Win...|     3|         1|\n",
      "|  null|Cancelled|   Sophia|     F|           18|      Key|  null| paid|Los Angeles-Long ...|   GET|Cancellation Conf...|1537679535000|     1383|null|   200|1541166424000|\"Mozilla/5.0 (Mac...|   106|         1|\n",
      "|  null|Cancelled|    Piper|     F|            8|  Nielsen|  null| paid|New York-Newark-J...|   GET|Cancellation Conf...|1537699856000|     1583|null|   200|1541340091000|\"Mozilla/5.0 (Mac...|   103|         1|\n",
      "|  null|Cancelled|   Teagan|     F|          306|  Roberts|  null| paid|New Philadelphia-...|   GET|Cancellation Conf...|1537634865000|     1519|null|   200|1541463632000|Mozilla/5.0 (Wind...|    28|         1|\n",
      "|  null|Cancelled|    Alexi|     F|           42|   Warren|  null| paid|Spokane-Spokane V...|   GET|Cancellation Conf...|1532482662000|     1819|null|   200|1542051608000|Mozilla/5.0 (Wind...|    54|         1|\n",
      "+------+---------+---------+------+-------------+---------+------+-----+--------------------+------+--------------------+-------------+---------+----+------+-------------+--------------------+------+----------+\n",
      "only showing top 20 rows\n",
      "\n"
     ]
    }
   ],
   "source": [
    "df_churn.filter(df_churn.Churn_test==1).show()"
   ]
  },
  {
   "cell_type": "code",
   "execution_count": null,
   "metadata": {},
   "outputs": [],
   "source": []
  },
  {
   "cell_type": "code",
   "execution_count": 45,
   "metadata": {},
   "outputs": [],
   "source": [
    "windowSelection = Window\\\n",
    "                    .partitionBy('userID')\\\n",
    "                    .rangeBetween(Window.unboundedPreceding, Window.unboundedFollowing)\n",
    "\n",
    "df_churn = df_churn.withColumn('Churn', F.max('Churn_test').over(windowSelection))"
   ]
  },
  {
   "cell_type": "code",
   "execution_count": 46,
   "metadata": {},
   "outputs": [
    {
     "name": "stdout",
     "output_type": "stream",
     "text": [
      "+-------+-------------------+\n",
      "|summary|              Churn|\n",
      "+-------+-------------------+\n",
      "|  count|             278154|\n",
      "|   mean|0.16129194618808287|\n",
      "| stddev|0.36780068056308857|\n",
      "|    min|                  0|\n",
      "|    max|                  1|\n",
      "+-------+-------------------+\n",
      "\n"
     ]
    }
   ],
   "source": [
    "df_churn.describe('Churn').show()"
   ]
  },
  {
   "cell_type": "code",
   "execution_count": 47,
   "metadata": {},
   "outputs": [
    {
     "name": "stdout",
     "output_type": "stream",
     "text": [
      "+--------------------+---------+---------+------+-------------+--------+---------+-----+----------+------+----------+-------------+---------+--------------------+------+-------------+--------------------+------+----------+-----+\n",
      "|              artist|     auth|firstName|gender|itemInSession|lastName|   length|level|  location|method|      page| registration|sessionId|                song|status|           ts|           userAgent|userId|Churn_test|Churn|\n",
      "+--------------------+---------+---------+------+-------------+--------+---------+-----+----------+------+----------+-------------+---------+--------------------+------+-------------+--------------------+------+----------+-----+\n",
      "|     The Temper Trap|Logged In|   Brycen|     M|           19| Bradley|222.53669| paid|Laurel, MS|   PUT|  NextSong|1538159495000|        9|                Rest|   200|1538969140000|\"Mozilla/5.0 (Mac...|    10|         0|    0|\n",
      "|                null|Logged In|   Brycen|     M|           11| Bradley|     null| paid|Laurel, MS|   PUT|Add Friend|1538159495000|        9|                null|   307|1538967508000|\"Mozilla/5.0 (Mac...|    10|         0|    0|\n",
      "|             Flobots|Logged In|   Brycen|     M|           18| Bradley|233.35138| paid|Laurel, MS|   PUT|  NextSong|1538159495000|        9|The Rhythm Method...|   200|1538968907000|\"Mozilla/5.0 (Mac...|    10|         0|    0|\n",
      "|Camper Van Beethoven|Logged In|   Brycen|     M|            6| Bradley|106.31791| paid|Laurel, MS|   PUT|  NextSong|1538159495000|        9|      Skinhead Stomp|   200|1538966898000|\"Mozilla/5.0 (Mac...|    10|         0|    0|\n",
      "|       Robert Palmer|Logged In|   Brycen|     M|           10| Bradley|363.41506| paid|Laurel, MS|   PUT|  NextSong|1538159495000|        9|    Addicted To Love|   200|1538967507000|\"Mozilla/5.0 (Mac...|    10|         0|    0|\n",
      "|             MoZella|Logged In|   Brycen|     M|           14| Bradley|206.96771| paid|Laurel, MS|   PUT|  NextSong|1538159495000|        9|Amnesia (Album Ve...|   200|1538968110000|\"Mozilla/5.0 (Mac...|    10|         0|    0|\n",
      "|             Shakira|Logged In|   Brycen|     M|           17| Bradley|159.05914| paid|Laurel, MS|   PUT|  NextSong|1538159495000|        9|            La Pared|   200|1538968748000|\"Mozilla/5.0 (Mac...|    10|         0|    0|\n",
      "|          Klaus Lage|Logged In|   Brycen|     M|            2| Bradley|208.03873| paid|Laurel, MS|   PUT|  NextSong|1538159495000|        9|Du Hast'n Freund ...|   200|1538965685000|\"Mozilla/5.0 (Mac...|    10|         0|    0|\n",
      "|           Lifehouse|Logged In|   Brycen|     M|            5| Bradley|207.01995| paid|Laurel, MS|   PUT|  NextSong|1538159495000|        9|      Sky Is Falling|   200|1538966691000|\"Mozilla/5.0 (Mac...|    10|         0|    0|\n",
      "|       Dwight Yoakam|Logged In|   Brycen|     M|            8| Bradley| 239.3073| paid|Laurel, MS|   PUT|  NextSong|1538159495000|        9|      You're The One|   200|1538967004000|\"Mozilla/5.0 (Mac...|    10|         0|    0|\n",
      "|   Matthew Good Band|Logged In|   Brycen|     M|            9| Bradley|264.85506| paid|Laurel, MS|   PUT|  NextSong|1538159495000|        9|        Strange Days|   200|1538967243000|\"Mozilla/5.0 (Mac...|    10|         0|    0|\n",
      "|                null|Logged In|   Brycen|     M|           12| Bradley|     null| paid|Laurel, MS|   PUT|Add Friend|1538159495000|        9|                null|   307|1538967509000|\"Mozilla/5.0 (Mac...|    10|         0|    0|\n",
      "|       Beach Fossils|Logged In|   Brycen|     M|           13| Bradley|240.01261| paid|Laurel, MS|   PUT|  NextSong|1538159495000|        9|         Desert Sand|   200|1538967870000|\"Mozilla/5.0 (Mac...|    10|         0|    0|\n",
      "|                null|Logged In|   Brycen|     M|           15| Bradley|     null| paid|Laurel, MS|   PUT| Thumbs Up|1538159495000|        9|                null|   307|1538968111000|\"Mozilla/5.0 (Mac...|    10|         0|    0|\n",
      "|      Chuck Mangione|Logged In|   Brycen|     M|           16| Bradley|432.84853| paid|Laurel, MS|   PUT|  NextSong|1538159495000|        9|       Fun And Games|   200|1538968316000|\"Mozilla/5.0 (Mac...|    10|         0|    0|\n",
      "|            Sea Wolf|Logged In|   Brycen|     M|            0| Bradley|265.53424| paid|Laurel, MS|   PUT|  NextSong|1538159495000|        9|       Ses Monuments|   200|1538965220000|\"Mozilla/5.0 (Mac...|    10|         0|    0|\n",
      "|George Baker Sele...|Logged In|   Brycen|     M|            1| Bradley| 200.4371| paid|Laurel, MS|   PUT|  NextSong|1538159495000|        9|         Morning Sky|   200|1538965485000|\"Mozilla/5.0 (Mac...|    10|         0|    0|\n",
      "|         Dave Grusin|Logged In|   Brycen|     M|            3| Bradley|526.44526| paid|Laurel, MS|   PUT|  NextSong|1538159495000|        9|             Playera|   200|1538965893000|\"Mozilla/5.0 (Mac...|    10|         0|    0|\n",
      "|    Blue Oyster Cult|Logged In|   Brycen|     M|            4| Bradley|272.06485| paid|Laurel, MS|   PUT|  NextSong|1538159495000|        9|     Burnin' For You|   200|1538966419000|\"Mozilla/5.0 (Mac...|    10|         0|    0|\n",
      "|                null|Logged In|   Brycen|     M|            7| Bradley|     null| paid|Laurel, MS|   PUT| Thumbs Up|1538159495000|        9|                null|   307|1538966899000|\"Mozilla/5.0 (Mac...|    10|         0|    0|\n",
      "+--------------------+---------+---------+------+-------------+--------+---------+-----+----------+------+----------+-------------+---------+--------------------+------+-------------+--------------------+------+----------+-----+\n",
      "only showing top 20 rows\n",
      "\n"
     ]
    }
   ],
   "source": [
    "df_churn.filter(df_churn.Churn==0).orderBy('userId').show()"
   ]
  },
  {
   "cell_type": "code",
   "execution_count": 48,
   "metadata": {},
   "outputs": [
    {
     "name": "stdout",
     "output_type": "stream",
     "text": [
      "+----------------+---------+---------+------+-------------+--------+---------+-----+--------------------+------+---------------+-------------+---------+--------------------+------+-------------+--------------------+------+----------+-----+\n",
      "|          artist|     auth|firstName|gender|itemInSession|lastName|   length|level|            location|method|           page| registration|sessionId|                song|status|           ts|           userAgent|userId|Churn_test|Churn|\n",
      "+----------------+---------+---------+------+-------------+--------+---------+-----+--------------------+------+---------------+-------------+---------+--------------------+------+-------------+--------------------+------+----------+-----+\n",
      "|    Rise Against|Logged In|  Madison|     F|           18|Atkinson|150.54322| free|New Haven-Milford...|   PUT|       NextSong|1531811983000|       98|          Gethsemane|   200|1538607743000|\"Mozilla/5.0 (Win...|    99|         0|    0|\n",
      "|     Paris Combo|Logged In|  Madison|     F|           10|Atkinson|254.37995| free|New Haven-Milford...|   PUT|       NextSong|1531811983000|       98|   PrÃÂªte A Porter|   200|1538606063000|\"Mozilla/5.0 (Win...|    99|         0|    0|\n",
      "|            null|Logged In|  Madison|     F|           17|Atkinson|     null| free|New Haven-Milford...|   PUT|Add to Playlist|1531811983000|       98|                null|   200|1538607492000|\"Mozilla/5.0 (Win...|    99|         0|    0|\n",
      "|            null|Logged In|  Madison|     F|            5|Atkinson|     null| free|New Haven-Milford...|   PUT|    Thumbs Down|1531811983000|       98|                null|   307|1538605432000|\"Mozilla/5.0 (Win...|    99|         0|    0|\n",
      "|            null|Logged In|  Madison|     F|            9|Atkinson|     null| free|New Haven-Milford...|   PUT|      Thumbs Up|1531811983000|       98|                null|   307|1538605873000|\"Mozilla/5.0 (Win...|    99|         0|    0|\n",
      "| The Special AKA|Logged In|  Madison|     F|           13|Atkinson|279.92771| free|New Haven-Milford...|   PUT|       NextSong|1531811983000|       98|Bright Lights (In...|   200|1538606765000|\"Mozilla/5.0 (Win...|    99|         0|    0|\n",
      "|         Chromeo|Logged In|  Madison|     F|           16|Atkinson|253.17832| free|New Haven-Milford...|   PUT|       NextSong|1531811983000|       98|          Call Me Up|   200|1538607490000|\"Mozilla/5.0 (Win...|    99|         0|    0|\n",
      "|        Slipknot|Logged In|  Madison|     F|            1|Atkinson|195.42159| free|New Haven-Milford...|   PUT|       NextSong|1531811983000|       98|Welcome (Album Ve...|   200|1538604878000|\"Mozilla/5.0 (Win...|    99|         0|    0|\n",
      "|    Celtic Woman|Logged In|  Madison|     F|            4|Atkinson|133.27628| free|New Haven-Milford...|   PUT|       NextSong|1531811983000|       98|     Si Do Mhaimeo I|   200|1538605431000|\"Mozilla/5.0 (Win...|    99|         0|    0|\n",
      "|            null|Logged In|  Madison|     F|            7|Atkinson|     null| free|New Haven-Milford...|   GET|    Roll Advert|1531811983000|       98|                null|   200|1538605593000|\"Mozilla/5.0 (Win...|    99|         0|    0|\n",
      "|     Chiddy Bang|Logged In|  Madison|     F|            8|Atkinson|191.89506| free|New Haven-Milford...|   PUT|       NextSong|1531811983000|       98|  Opposite Of Adults|   200|1538605872000|\"Mozilla/5.0 (Win...|    99|         0|    0|\n",
      "|            Akon|Logged In|  Madison|     F|           11|Atkinson|253.77914| free|New Haven-Milford...|   PUT|       NextSong|1531811983000|       98|             Freedom|   200|1538606317000|\"Mozilla/5.0 (Win...|    99|         0|    0|\n",
      "| Alliance Ethnik|Logged In|  Madison|     F|           12|Atkinson|195.94404| free|New Haven-Milford...|   PUT|       NextSong|1531811983000|       98|SinceritÃÂ© Et J...|   200|1538606570000|\"Mozilla/5.0 (Win...|    99|         0|    0|\n",
      "|    Beastie Boys|Logged In|  Madison|     F|           14|Atkinson|  211.722| free|New Haven-Milford...|   PUT|       NextSong|1531811983000|       98|Unite (2009 Digit...|   200|1538607044000|\"Mozilla/5.0 (Win...|    99|         0|    0|\n",
      "|         Incubus|Logged In|  Madison|     F|           15|Atkinson|235.75465| free|New Haven-Milford...|   PUT|       NextSong|1531811983000|       98|             Hilikus|   200|1538607255000|\"Mozilla/5.0 (Win...|    99|         0|    0|\n",
      "|            null|Logged In|  Madison|     F|            0|Atkinson|     null| free|New Haven-Milford...|   GET|           Home|1531811983000|       98|                null|   200|1538604854000|\"Mozilla/5.0 (Win...|    99|         0|    0|\n",
      "|           Rufio|Logged In|  Madison|     F|           20|Atkinson|192.26077| free|New Haven-Milford...|   PUT|       NextSong|1531811983000|       98|            Above Me|   200|1538608123000|\"Mozilla/5.0 (Win...|    99|         0|    0|\n",
      "| Navajita Platea|Logged In|  Madison|     F|            2|Atkinson|295.88853| free|New Haven-Milford...|   PUT|       NextSong|1531811983000|       98| Si No Existo (Live)|   200|1538605073000|\"Mozilla/5.0 (Win...|    99|         0|    0|\n",
      "|Rachael Yamagata|Logged In|  Madison|     F|            3|Atkinson| 63.26812| free|New Haven-Milford...|   PUT|       NextSong|1531811983000|       98| Moments with Oliver|   200|1538605368000|\"Mozilla/5.0 (Win...|    99|         0|    0|\n",
      "|          Camila|Logged In|  Madison|     F|            6|Atkinson|308.00934| free|New Haven-Milford...|   PUT|       NextSong|1531811983000|       98|Coleccionista De ...|   200|1538605564000|\"Mozilla/5.0 (Win...|    99|         0|    0|\n",
      "+----------------+---------+---------+------+-------------+--------+---------+-----+--------------------+------+---------------+-------------+---------+--------------------+------+-------------+--------------------+------+----------+-----+\n",
      "only showing top 20 rows\n",
      "\n"
     ]
    }
   ],
   "source": [
    "df_churn.filter(df_churn.Churn==0).orderBy('userId', ascending=False).show()"
   ]
  },
  {
   "cell_type": "markdown",
   "metadata": {},
   "source": [
    "### Explore Data\n",
    "Once you've defined churn, perform some exploratory data analysis to observe the behavior for users who stayed vs users who churned. You can start by exploring aggregates on these two groups of users, observing how much of a specific action they experienced per a certain time unit or number of songs played."
   ]
  },
  {
   "cell_type": "code",
   "execution_count": 49,
   "metadata": {},
   "outputs": [],
   "source": [
    "#Checking impact of gender on the churn"
   ]
  },
  {
   "cell_type": "code",
   "execution_count": 50,
   "metadata": {},
   "outputs": [
    {
     "name": "stdout",
     "output_type": "stream",
     "text": [
      "+-----+------+-----+\n",
      "|Churn|gender|count|\n",
      "+-----+------+-----+\n",
      "|    1|     F|   20|\n",
      "|    0|     M|   89|\n",
      "|    1|     M|   32|\n",
      "|    0|     F|   84|\n",
      "+-----+------+-----+\n",
      "\n"
     ]
    }
   ],
   "source": [
    "df_gen = df_churn.select(['userId', 'Churn', 'gender']).distinct().groupBy('Churn', 'gender').count()\n",
    "df_gen.show()"
   ]
  },
  {
   "cell_type": "code",
   "execution_count": 51,
   "metadata": {},
   "outputs": [
    {
     "name": "stdout",
     "output_type": "stream",
     "text": [
      "Female churn percentage: 0.23809523809523808\n",
      "Male churn percentage: 0.3595505617977528\n"
     ]
    }
   ],
   "source": [
    "print('Female churn percentage:', 20/84)\n",
    "print('Male churn percentage:', 32/89)"
   ]
  },
  {
   "cell_type": "code",
   "execution_count": 52,
   "metadata": {},
   "outputs": [
    {
     "data": {
      "image/png": "[encoded data removed]",
      "text/plain": [
       "<matplotlib.figure.Figure at 0x7fd77194def0>"
      ]
     },
     "metadata": {
      "needs_background": "light"
     },
     "output_type": "display_data"
    }
   ],
   "source": [
    "fig = sns.barplot(x='Churn', y='count', hue='gender', data=df_gen.toPandas())\n",
    "plt.xlabel('Churned Costumers')\n",
    "plt.ylabel('Number of costumers')\n",
    "plt.legend(title='Gender')\n",
    "sns.despine(ax=fig);"
   ]
  },
  {
   "cell_type": "markdown",
   "metadata": {},
   "source": [
    "From the graph and percentage, we can see that, male costumers are more likely to chrun than female costumers"
   ]
  },
  {
   "cell_type": "code",
   "execution_count": 53,
   "metadata": {},
   "outputs": [],
   "source": [
    "#Checking impact of level on the churn"
   ]
  },
  {
   "cell_type": "code",
   "execution_count": 54,
   "metadata": {},
   "outputs": [
    {
     "name": "stdout",
     "output_type": "stream",
     "text": [
      "+-----+-----+-----+\n",
      "|Churn|level|count|\n",
      "+-----+-----+-----+\n",
      "|    0| free|  149|\n",
      "|    0| paid|  129|\n",
      "|    1| paid|   36|\n",
      "|    1| free|   46|\n",
      "+-----+-----+-----+\n",
      "\n"
     ]
    }
   ],
   "source": [
    "df_lev = df_churn.select(['userId', 'Churn', 'level']).distinct().groupBy('Churn', 'level').count()\n",
    "df_lev.show()"
   ]
  },
  {
   "cell_type": "code",
   "execution_count": 55,
   "metadata": {},
   "outputs": [
    {
     "name": "stdout",
     "output_type": "stream",
     "text": [
      "Free user churn percentage: 0.3087248322147651\n",
      "Paid user churn percentage: 0.27906976744186046\n"
     ]
    }
   ],
   "source": [
    "print('Free user churn percentage:', 46/149)\n",
    "print('Paid user churn percentage:', 36/129)"
   ]
  },
  {
   "cell_type": "code",
   "execution_count": 56,
   "metadata": {},
   "outputs": [
    {
     "data": {
      "image/png": "[encoded data removed]",
      "text/plain": [
       "<matplotlib.figure.Figure at 0x7fd7a32e7588>"
      ]
     },
     "metadata": {
      "needs_background": "light"
     },
     "output_type": "display_data"
    }
   ],
   "source": [
    "fig = sns.barplot(x='Churn', y='count', hue='level', data=df_lev.toPandas())\n",
    "plt.xlabel('Churned Costumers')\n",
    "plt.ylabel('Number of costumers')\n",
    "plt.legend(title='Level of Costumers')\n",
    "sns.despine(ax=fig);"
   ]
  },
  {
   "cell_type": "markdown",
   "metadata": {},
   "source": [
    "From the graph and percentage, we can see that, there is no significant impact of level on churn"
   ]
  },
  {
   "cell_type": "code",
   "execution_count": 57,
   "metadata": {},
   "outputs": [],
   "source": [
    "#checking the impact of user interactions"
   ]
  },
  {
   "cell_type": "code",
   "execution_count": 58,
   "metadata": {},
   "outputs": [
    {
     "name": "stdout",
     "output_type": "stream",
     "text": [
      "+-----+----------------+-----+\n",
      "|Churn|            page|count|\n",
      "+-----+----------------+-----+\n",
      "|    1|           About|   31|\n",
      "|    0|           About|  124|\n",
      "|    1|      Add Friend|   44|\n",
      "|    0|      Add Friend|  162|\n",
      "|    1|       Downgrade|   35|\n",
      "|    0|       Downgrade|  119|\n",
      "|    1|           Error|   22|\n",
      "|    0|           Error|   95|\n",
      "|    1|            Help|   43|\n",
      "|    0|            Help|  149|\n",
      "|    1|            Home|   51|\n",
      "|    0|            Home|  172|\n",
      "|    1|          Logout|   46|\n",
      "|    0|          Logout|  167|\n",
      "|    1|     Roll Advert|   50|\n",
      "|    0|     Roll Advert|  157|\n",
      "|    1|   Save Settings|   30|\n",
      "|    0|   Save Settings|  102|\n",
      "|    1|        Settings|   43|\n",
      "|    0|        Settings|  152|\n",
      "|    1|Submit Downgrade|    9|\n",
      "|    0|Submit Downgrade|   40|\n",
      "|    1|  Submit Upgrade|   29|\n",
      "|    0|  Submit Upgrade|  102|\n",
      "|    1|     Thumbs Down|   48|\n",
      "|    0|     Thumbs Down|  155|\n",
      "|    1|       Thumbs Up|   50|\n",
      "|    0|       Thumbs Up|  170|\n",
      "|    1|         Upgrade|   37|\n",
      "|    0|         Upgrade|  131|\n",
      "+-----+----------------+-----+\n",
      "\n"
     ]
    }
   ],
   "source": [
    "li_cols = ['Thumbs Up','Home','Add to','Add Friend','Roll Advert','Logout','Thumbs Down','Downgrade','Settings','Help','About','Upgrade','Save Settings','Error','Submit Upgrade','Submit Downgrade']\n",
    "\n",
    "df_usr = df_churn.select(['userId', 'Churn', 'page']).distinct() \\\n",
    "    .groupBy('Churn', 'page').count().orderBy('page', 'count') \\\n",
    "    .where(F.col('page').isin(li_cols))\n",
    "\n",
    "df_usr.show(100)"
   ]
  },
  {
   "cell_type": "code",
   "execution_count": 59,
   "metadata": {},
   "outputs": [
    {
     "data": {
      "image/png": "[encoded data removed]",
      "text/plain": [
       "<matplotlib.figure.Figure at 0x7fd7a32c5390>"
      ]
     },
     "metadata": {
      "needs_background": "light"
     },
     "output_type": "display_data"
    }
   ],
   "source": [
    "fig = sns.barplot(x='page', y='count', hue='Churn', data=df_usr.toPandas())\n",
    "plt.xlabel('Costumer interaction type')\n",
    "plt.ylabel('Number of costumers')\n",
    "plt.xticks(rotation=90) \n",
    "plt.legend(bbox_to_anchor=(1, 1), loc=2, borderaxespad=0., title='churn_value')\n",
    "sns.despine(ax=fig);"
   ]
  },
  {
   "cell_type": "code",
   "execution_count": 60,
   "metadata": {},
   "outputs": [
    {
     "name": "stdout",
     "output_type": "stream",
     "text": [
      "+-----+----------------+-----+\n",
      "|Churn|            page|count|\n",
      "+-----+----------------+-----+\n",
      "|    1|           About|   56|\n",
      "|    0|           About|  439|\n",
      "|    0|      Add Friend| 3641|\n",
      "|    1|      Add Friend|  636|\n",
      "|    1|       Downgrade|  337|\n",
      "|    0|       Downgrade| 1718|\n",
      "|    0|           Error|  220|\n",
      "|    1|           Error|   32|\n",
      "|    0|            Help| 1215|\n",
      "|    1|            Help|  239|\n",
      "|    0|            Home| 8410|\n",
      "|    1|            Home| 1672|\n",
      "|    1|          Logout|  553|\n",
      "|    0|          Logout| 2673|\n",
      "|    0|     Roll Advert| 2966|\n",
      "|    1|     Roll Advert|  967|\n",
      "|    1|   Save Settings|   58|\n",
      "|    0|   Save Settings|  252|\n",
      "|    0|        Settings| 1244|\n",
      "|    1|        Settings|  270|\n",
      "|    0|Submit Downgrade|   54|\n",
      "|    1|Submit Downgrade|    9|\n",
      "|    1|  Submit Upgrade|   32|\n",
      "|    0|  Submit Upgrade|  127|\n",
      "|    0|     Thumbs Down| 2050|\n",
      "|    1|     Thumbs Down|  496|\n",
      "|    0|       Thumbs Up|10692|\n",
      "|    1|       Thumbs Up| 1859|\n",
      "|    1|         Upgrade|  112|\n",
      "|    0|         Upgrade|  387|\n",
      "+-----+----------------+-----+\n",
      "\n"
     ]
    }
   ],
   "source": [
    "li_cols = ['Thumbs Up','Home','Add to','Add Friend','Roll Advert','Logout','Thumbs Down','Downgrade','Settings','Help','About','Upgrade','Save Settings','Error','Submit Upgrade','Submit Downgrade']\n",
    "\n",
    "df_usr = df_churn.select(['userId', 'Churn', 'page']) \\\n",
    "    .groupBy('Churn', 'page').count().orderBy('page') \\\n",
    "    .where(F.col('page').isin(li_cols))\n",
    "\n",
    "df_usr.show(100)"
   ]
  },
  {
   "cell_type": "code",
   "execution_count": 61,
   "metadata": {},
   "outputs": [
    {
     "data": {
      "image/png": "[encoded data removed]",
      "text/plain": [
       "<matplotlib.figure.Figure at 0x7fd778072668>"
      ]
     },
     "metadata": {
      "needs_background": "light"
     },
     "output_type": "display_data"
    }
   ],
   "source": [
    "fig = sns.barplot(x='page', y='count', hue='Churn', data=df_usr.toPandas())\n",
    "plt.xlabel('Churned Costumers')\n",
    "plt.ylabel('Costumer Interaction type')\n",
    "plt.xticks(rotation=90) \n",
    "plt.legend(bbox_to_anchor=(1, 1), loc=2, borderaxespad=0., title='churn_value')\n",
    "sns.despine(ax=fig);"
   ]
  },
  {
   "cell_type": "code",
   "execution_count": 62,
   "metadata": {},
   "outputs": [],
   "source": [
    "#Checking impact of userAgent on the churn"
   ]
  },
  {
   "cell_type": "code",
   "execution_count": 64,
   "metadata": {},
   "outputs": [],
   "source": [
    "def findBrowser(x):\n",
    "    if 'Firefox' in x:\n",
    "        return 'Firefox'\n",
    "    elif 'Safari' in x:\n",
    "        if 'Chrome' in x:\n",
    "            return 'Chrome'\n",
    "        else:\n",
    "            return 'Safari'\n",
    "    elif 'Trident' in x:\n",
    "        return 'IE'\n",
    "    else:\n",
    "        return np.NaN\n",
    "    \n",
    "    \n",
    "def findPlatform(x): \n",
    "    return platforms[re.findall(r'\\(([^\\)]*)\\)',x)[0].split(';')[0]]\n",
    "\n",
    "platforms = {'Windows NT 5.1': 'Windows','Windows NT 6.0': 'Windows', 'Windows NT 6.1': 'Windows',  \n",
    "          'Windows NT 6.2': 'Windows',  'Windows NT 6.3': 'Windows', 'X11': 'Linux','compatible': 'Windows',  'iPad': 'iPad',  'iPhone': 'iPhone',  \n",
    "          'Macintosh': 'Mac'}"
   ]
  },
  {
   "cell_type": "code",
   "execution_count": 65,
   "metadata": {},
   "outputs": [],
   "source": [
    "temp = df_churn.toPandas()"
   ]
  },
  {
   "cell_type": "code",
   "execution_count": 66,
   "metadata": {},
   "outputs": [],
   "source": [
    "temp['browser'] = temp['userAgent'].apply(findBrowser)"
   ]
  },
  {
   "cell_type": "code",
   "execution_count": 67,
   "metadata": {},
   "outputs": [
    {
     "data": {
      "text/html": [
       "<div>\n",
       "<style scoped>\n",
       "    .dataframe tbody tr th:only-of-type {\n",
       "        vertical-align: middle;\n",
       "    }\n",
       "\n",
       "    .dataframe tbody tr th {\n",
       "        vertical-align: top;\n",
       "    }\n",
       "\n",
       "    .dataframe thead th {\n",
       "        text-align: right;\n",
       "    }\n",
       "</style>\n",
       "<table border=\"1\" class=\"dataframe\">\n",
       "  <thead>\n",
       "    <tr style=\"text-align: right;\">\n",
       "      <th></th>\n",
       "      <th>browser</th>\n",
       "      <th>Churn</th>\n",
       "      <th>Churn_test</th>\n",
       "    </tr>\n",
       "  </thead>\n",
       "  <tbody>\n",
       "    <tr>\n",
       "      <th>0</th>\n",
       "      <td>Chrome</td>\n",
       "      <td>0</td>\n",
       "      <td>125030</td>\n",
       "    </tr>\n",
       "    <tr>\n",
       "      <th>1</th>\n",
       "      <td>Chrome</td>\n",
       "      <td>1</td>\n",
       "      <td>20561</td>\n",
       "    </tr>\n",
       "    <tr>\n",
       "      <th>2</th>\n",
       "      <td>Firefox</td>\n",
       "      <td>0</td>\n",
       "      <td>40799</td>\n",
       "    </tr>\n",
       "    <tr>\n",
       "      <th>3</th>\n",
       "      <td>Firefox</td>\n",
       "      <td>1</td>\n",
       "      <td>14847</td>\n",
       "    </tr>\n",
       "    <tr>\n",
       "      <th>4</th>\n",
       "      <td>IE</td>\n",
       "      <td>0</td>\n",
       "      <td>13566</td>\n",
       "    </tr>\n",
       "    <tr>\n",
       "      <th>5</th>\n",
       "      <td>IE</td>\n",
       "      <td>1</td>\n",
       "      <td>1781</td>\n",
       "    </tr>\n",
       "    <tr>\n",
       "      <th>6</th>\n",
       "      <td>Safari</td>\n",
       "      <td>0</td>\n",
       "      <td>53895</td>\n",
       "    </tr>\n",
       "    <tr>\n",
       "      <th>7</th>\n",
       "      <td>Safari</td>\n",
       "      <td>1</td>\n",
       "      <td>7675</td>\n",
       "    </tr>\n",
       "  </tbody>\n",
       "</table>\n",
       "</div>"
      ],
      "text/plain": [
       "   browser  Churn  Churn_test\n",
       "0   Chrome      0      125030\n",
       "1   Chrome      1       20561\n",
       "2  Firefox      0       40799\n",
       "3  Firefox      1       14847\n",
       "4       IE      0       13566\n",
       "5       IE      1        1781\n",
       "6   Safari      0       53895\n",
       "7   Safari      1        7675"
      ]
     },
     "execution_count": 67,
     "metadata": {},
     "output_type": "execute_result"
    }
   ],
   "source": [
    "df_browser = temp.groupby(['browser','Churn']).count()[['Churn_test']].reset_index()\n",
    "df_browser"
   ]
  },
  {
   "cell_type": "code",
   "execution_count": 1,
   "metadata": {},
   "outputs": [
    {
     "name": "stdout",
     "output_type": "stream",
     "text": [
      "Chrome browser churn percentage: 0.16444853235223547\n",
      "Firefox browser churn percentage: 0.3639059780876982\n",
      "IE browser churn percentage: 0.13128409258440218\n",
      "Safari browser churn percentage: 0.14240653121810928\n"
     ]
    }
   ],
   "source": [
    "print('Chrome browser churn percentage:', 20561/125030)\n",
    "print('Firefox browser churn percentage:', 14847/40799)\n",
    "print('IE browser churn percentage:', 1781/13566)\n",
    "print('Safari browser churn percentage:', 7675/53895)"
   ]
  },
  {
   "cell_type": "code",
   "execution_count": 68,
   "metadata": {},
   "outputs": [
    {
     "data": {
      "image/png": "[encoded data removed]",
      "text/plain": [
       "<matplotlib.figure.Figure at 0x7fd7c4b15b38>"
      ]
     },
     "metadata": {
      "needs_background": "light"
     },
     "output_type": "display_data"
    }
   ],
   "source": [
    "fig = sns.barplot(x='browser', y='Churn_test', hue='Churn', data=df_browser)\n",
    "plt.xlabel('Browser')\n",
    "plt.ylabel('Number of costumers')\n",
    "plt.xticks(rotation=90) \n",
    "plt.legend(bbox_to_anchor=(1, 1), loc=2, borderaxespad=0., title='churn_value')\n",
    "sns.despine(ax=fig);"
   ]
  },
  {
   "cell_type": "code",
   "execution_count": null,
   "metadata": {},
   "outputs": [],
   "source": []
  },
  {
   "cell_type": "code",
   "execution_count": 69,
   "metadata": {},
   "outputs": [],
   "source": [
    "temp['platform'] = temp['userAgent'].apply(findPlatform)"
   ]
  },
  {
   "cell_type": "code",
   "execution_count": 70,
   "metadata": {},
   "outputs": [
    {
     "data": {
      "text/html": [
       "<div>\n",
       "<style scoped>\n",
       "    .dataframe tbody tr th:only-of-type {\n",
       "        vertical-align: middle;\n",
       "    }\n",
       "\n",
       "    .dataframe tbody tr th {\n",
       "        vertical-align: top;\n",
       "    }\n",
       "\n",
       "    .dataframe thead th {\n",
       "        text-align: right;\n",
       "    }\n",
       "</style>\n",
       "<table border=\"1\" class=\"dataframe\">\n",
       "  <thead>\n",
       "    <tr style=\"text-align: right;\">\n",
       "      <th></th>\n",
       "      <th>platform</th>\n",
       "      <th>Churn</th>\n",
       "      <th>Churn_test</th>\n",
       "    </tr>\n",
       "  </thead>\n",
       "  <tbody>\n",
       "    <tr>\n",
       "      <th>0</th>\n",
       "      <td>Linux</td>\n",
       "      <td>0</td>\n",
       "      <td>7199</td>\n",
       "    </tr>\n",
       "    <tr>\n",
       "      <th>1</th>\n",
       "      <td>Linux</td>\n",
       "      <td>1</td>\n",
       "      <td>1762</td>\n",
       "    </tr>\n",
       "    <tr>\n",
       "      <th>2</th>\n",
       "      <td>Mac</td>\n",
       "      <td>0</td>\n",
       "      <td>85394</td>\n",
       "    </tr>\n",
       "    <tr>\n",
       "      <th>3</th>\n",
       "      <td>Mac</td>\n",
       "      <td>1</td>\n",
       "      <td>17355</td>\n",
       "    </tr>\n",
       "    <tr>\n",
       "      <th>4</th>\n",
       "      <td>Windows</td>\n",
       "      <td>0</td>\n",
       "      <td>119134</td>\n",
       "    </tr>\n",
       "    <tr>\n",
       "      <th>5</th>\n",
       "      <td>Windows</td>\n",
       "      <td>1</td>\n",
       "      <td>24737</td>\n",
       "    </tr>\n",
       "    <tr>\n",
       "      <th>6</th>\n",
       "      <td>iPad</td>\n",
       "      <td>0</td>\n",
       "      <td>11381</td>\n",
       "    </tr>\n",
       "    <tr>\n",
       "      <th>7</th>\n",
       "      <td>iPhone</td>\n",
       "      <td>0</td>\n",
       "      <td>10182</td>\n",
       "    </tr>\n",
       "    <tr>\n",
       "      <th>8</th>\n",
       "      <td>iPhone</td>\n",
       "      <td>1</td>\n",
       "      <td>1010</td>\n",
       "    </tr>\n",
       "  </tbody>\n",
       "</table>\n",
       "</div>"
      ],
      "text/plain": [
       "  platform  Churn  Churn_test\n",
       "0    Linux      0        7199\n",
       "1    Linux      1        1762\n",
       "2      Mac      0       85394\n",
       "3      Mac      1       17355\n",
       "4  Windows      0      119134\n",
       "5  Windows      1       24737\n",
       "6     iPad      0       11381\n",
       "7   iPhone      0       10182\n",
       "8   iPhone      1        1010"
      ]
     },
     "execution_count": 70,
     "metadata": {},
     "output_type": "execute_result"
    }
   ],
   "source": [
    "df_platform = temp.groupby(['platform','Churn']).count()[['Churn_test']].reset_index()\n",
    "df_platform"
   ]
  },
  {
   "cell_type": "code",
   "execution_count": 3,
   "metadata": {},
   "outputs": [
    {
     "name": "stdout",
     "output_type": "stream",
     "text": [
      " Linux users churn percentage: 0.24475621614113072\n",
      " Mac users churn percentage: 0.2032344192800431\n",
      " Windows users churn percentage: 0.20764013631708833\n",
      " iPad users churn percentage: no user churned(insuffucient data)\n",
      " iPhone users churn percentage: 0.09919465723826361\n"
     ]
    }
   ],
   "source": [
    "print(' Linux users churn percentage:', 1762/7199)\n",
    "print(' Mac users churn percentage:', 17355/85394)\n",
    "print(' Windows users churn percentage:', 24737/119134)\n",
    "print(' iPad users churn percentage:', 'no user churned(insuffucient data)')\n",
    "print(' iPhone users churn percentage:', 1010/10182)"
   ]
  },
  {
   "cell_type": "code",
   "execution_count": 71,
   "metadata": {},
   "outputs": [
    {
     "data": {
      "image/png": "[encoded data removed]",
      "text/plain": [
       "<matplotlib.figure.Figure at 0x7fd76fd6c518>"
      ]
     },
     "metadata": {
      "needs_background": "light"
     },
     "output_type": "display_data"
    }
   ],
   "source": [
    "fig = sns.barplot(x='platform', y='Churn_test', hue='Churn', data=df_platform)\n",
    "plt.xlabel('Platform')\n",
    "plt.ylabel('Number of costumers')\n",
    "plt.xticks(rotation=90) \n",
    "plt.legend(bbox_to_anchor=(1, 1), loc=2, borderaxespad=0., title='churn_value')\n",
    "sns.despine(ax=fig);"
   ]
  },
  {
   "cell_type": "code",
   "execution_count": null,
   "metadata": {},
   "outputs": [],
   "source": []
  },
  {
   "cell_type": "code",
   "execution_count": null,
   "metadata": {},
   "outputs": [],
   "source": []
  },
  {
   "cell_type": "markdown",
   "metadata": {},
   "source": [
    "# Feature Engineering\n",
    "Once you've familiarized yourself with the data, build out the features you find promising to train your model on. To work with the full dataset, you can follow the following steps.\n",
    "- Write a script to extract the necessary features from the smaller subset of data\n",
    "- Ensure that your script is scalable, using the best practices discussed in Lesson 3\n",
    "- Try your script on the full data set, debugging your script if necessary\n",
    "\n",
    "If you are working in the classroom workspace, you can just extract features based on the small subset of data contained here. Be sure to transfer over this work to the larger dataset when you work on your Spark cluster."
   ]
  },
  {
   "cell_type": "code",
   "execution_count": 72,
   "metadata": {},
   "outputs": [
    {
     "name": "stdout",
     "output_type": "stream",
     "text": [
      "+------+------------------+\n",
      "|userId|          lifetime|\n",
      "+------+------------------+\n",
      "|100010|  55.6436574074074|\n",
      "|200002| 70.07462962962963|\n",
      "|   125| 71.31688657407408|\n",
      "|    51|19.455844907407407|\n",
      "|   124|131.55591435185184|\n",
      "+------+------------------+\n",
      "only showing top 5 rows\n",
      "\n"
     ]
    }
   ],
   "source": [
    "#registration time\n",
    "reg_time = df_churn.select('userId','registration','ts').withColumn('lifetime',(df_churn.ts-df_churn.registration)) \\\n",
    "    .groupBy('userId').agg({'lifetime':'max'}).withColumnRenamed('max(lifetime)','lifetime') \\\n",
    "    .select('userId', (F.col('lifetime')/1000/3600/24).alias('lifetime'))\n",
    "\n",
    "reg_time.show(5)"
   ]
  },
  {
   "cell_type": "code",
   "execution_count": 73,
   "metadata": {},
   "outputs": [
    {
     "name": "stdout",
     "output_type": "stream",
     "text": [
      "+------+------------+\n",
      "|userId|artist_count|\n",
      "+------+------------+\n",
      "|100010|         252|\n",
      "|200002|         339|\n",
      "|   125|           8|\n",
      "|    51|        1385|\n",
      "|   124|        2232|\n",
      "+------+------------+\n",
      "only showing top 5 rows\n",
      "\n"
     ]
    }
   ],
   "source": [
    "#listened artist \n",
    "lis_artist = df_churn.filter(df_churn.page==\"NextSong\").select(\"userId\", \"artist\").dropDuplicates() \\\n",
    "    .groupby(\"userId\").count().withColumnRenamed(\"count\", \"artist_count\")\n",
    "\n",
    "lis_artist.show(5)"
   ]
  },
  {
   "cell_type": "code",
   "execution_count": 74,
   "metadata": {},
   "outputs": [
    {
     "name": "stdout",
     "output_type": "stream",
     "text": [
      "+------+--------+\n",
      "|userID|thumbsUp|\n",
      "+------+--------+\n",
      "|100010|      17|\n",
      "|200002|      21|\n",
      "|    51|     100|\n",
      "|   124|     171|\n",
      "|     7|       7|\n",
      "+------+--------+\n",
      "only showing top 5 rows\n",
      "\n"
     ]
    }
   ],
   "source": [
    "#thumbs up count\n",
    "thumbUp = df_churn.select('userID','page').where(df_churn.page == 'Thumbs Up').groupBy('userID') \\\n",
    "    .count().withColumnRenamed('count', 'thumbsUp') \n",
    "\n",
    "thumbUp.show(5)"
   ]
  },
  {
   "cell_type": "code",
   "execution_count": 87,
   "metadata": {},
   "outputs": [
    {
     "name": "stdout",
     "output_type": "stream",
     "text": [
      "+------+----------+\n",
      "|userID|thumbsDown|\n",
      "+------+----------+\n",
      "|100010|         5|\n",
      "|200002|         6|\n",
      "|    51|        21|\n",
      "|   124|        41|\n",
      "|     7|         1|\n",
      "+------+----------+\n",
      "only showing top 5 rows\n",
      "\n"
     ]
    }
   ],
   "source": [
    "#thumbs down count\n",
    "thumbDown = df_churn.select('userID','page').where(df_churn.page == 'Thumbs Down').groupBy('userID') \\\n",
    "    .count().withColumnRenamed('count', 'thumbsDown') \n",
    "\n",
    "thumbDown.show(5)"
   ]
  },
  {
   "cell_type": "code",
   "execution_count": 76,
   "metadata": {},
   "outputs": [
    {
     "name": "stdout",
     "output_type": "stream",
     "text": [
      "+------+---------------+\n",
      "|userID|add_to_playlist|\n",
      "+------+---------------+\n",
      "|100010|              7|\n",
      "|200002|              8|\n",
      "|    51|             52|\n",
      "|   124|            118|\n",
      "|     7|              5|\n",
      "+------+---------------+\n",
      "only showing top 5 rows\n",
      "\n"
     ]
    }
   ],
   "source": [
    "#additon to playlist count\n",
    "add_playlist = df_churn.select('userID','page').where(df_churn.page == 'Add to Playlist').groupBy('userID') \\\n",
    "    .count().withColumnRenamed('count', 'add_to_playlist')\n",
    "\n",
    "add_playlist.show(5)"
   ]
  },
  {
   "cell_type": "code",
   "execution_count": 78,
   "metadata": {},
   "outputs": [
    {
     "name": "stdout",
     "output_type": "stream",
     "text": [
      "+------+------------------+\n",
      "|userId|  avg_songs_played|\n",
      "+------+------------------+\n",
      "|100010|39.285714285714285|\n",
      "|200002|              64.5|\n",
      "|   125|               8.0|\n",
      "|    51|             211.1|\n",
      "|   124|145.67857142857142|\n",
      "+------+------------------+\n",
      "only showing top 5 rows\n",
      "\n"
     ]
    }
   ],
   "source": [
    "#listened songs in session count\n",
    "session_songs = df_churn.where('page == \"NextSong\"').groupby(['userId', 'sessionId']).count().groupby(['userId']) \\\n",
    "    .agg({'count':'avg'}).withColumnRenamed('avg(count)', 'avg_songs_played')\n",
    "\n",
    "session_songs.show(5)"
   ]
  },
  {
   "cell_type": "code",
   "execution_count": 79,
   "metadata": {},
   "outputs": [
    {
     "name": "stdout",
     "output_type": "stream",
     "text": [
      "+------+----------+\n",
      "|userID|add_friend|\n",
      "+------+----------+\n",
      "|100010|         4|\n",
      "|200002|         4|\n",
      "|    51|        28|\n",
      "|   124|        74|\n",
      "|     7|         1|\n",
      "+------+----------+\n",
      "only showing top 5 rows\n",
      "\n"
     ]
    }
   ],
   "source": [
    "#total added friends\n",
    "added_friends = df_churn.select('userID','page').where(df_churn.page == 'Add Friend').groupBy('userID') \\\n",
    "    .count().withColumnRenamed('count', 'add_friend') \n",
    "\n",
    "added_friends.show(5)"
   ]
  },
  {
   "cell_type": "code",
   "execution_count": 81,
   "metadata": {},
   "outputs": [
    {
     "name": "stdout",
     "output_type": "stream",
     "text": [
      "+------+------+\n",
      "|userId|gender|\n",
      "+------+------+\n",
      "|    44|     1|\n",
      "|    46|     1|\n",
      "|    41|     1|\n",
      "|    72|     1|\n",
      "|300023|     1|\n",
      "+------+------+\n",
      "only showing top 5 rows\n",
      "\n"
     ]
    }
   ],
   "source": [
    "# total gender\n",
    "tot_gen = df_churn.select(\"userId\", \"gender\").dropDuplicates().replace(['M', 'F'], ['0', '1'], 'gender') \\\n",
    "    .select('userId', F.col('gender').cast('int'))\n",
    "\n",
    "tot_gen.show(5)"
   ]
  },
  {
   "cell_type": "code",
   "execution_count": 83,
   "metadata": {},
   "outputs": [
    {
     "name": "stdout",
     "output_type": "stream",
     "text": [
      "+------+-----+\n",
      "|userId|label|\n",
      "+------+-----+\n",
      "|100010|    0|\n",
      "|200002|    0|\n",
      "|   125|    1|\n",
      "|   124|    0|\n",
      "|    51|    1|\n",
      "+------+-----+\n",
      "only showing top 5 rows\n",
      "\n"
     ]
    }
   ],
   "source": [
    "#churn column\n",
    "churn = df_churn.select('userId', F.col('churn').alias('label')).dropDuplicates()\n",
    "\n",
    "churn.show(5)"
   ]
  },
  {
   "cell_type": "code",
   "execution_count": null,
   "metadata": {},
   "outputs": [],
   "source": []
  },
  {
   "cell_type": "code",
   "execution_count": 88,
   "metadata": {},
   "outputs": [],
   "source": [
    "#joining for getting desired features"
   ]
  },
  {
   "cell_type": "code",
   "execution_count": 89,
   "metadata": {},
   "outputs": [
    {
     "name": "stdout",
     "output_type": "stream",
     "text": [
      "+------------------+------------+--------+----------+---------------+------------------+----------+------+-----+\n",
      "|          lifetime|artist_count|thumbsUp|thumbsDown|add_to_playlist|  avg_songs_played|add_friend|gender|label|\n",
      "+------------------+------------+--------+----------+---------------+------------------+----------+------+-----+\n",
      "|  55.6436574074074|         252|      17|         5|              7|39.285714285714285|         4|     1|    0|\n",
      "| 70.07462962962963|         339|      21|         6|              8|              64.5|         4|     0|    0|\n",
      "| 71.31688657407408|           8|       0|         0|              0|               8.0|         0|     0|    1|\n",
      "|131.55591435185184|        2232|     171|        41|            118|145.67857142857142|        74|     1|    0|\n",
      "|19.455844907407407|        1385|     100|        21|             52|             211.1|        28|     0|    1|\n",
      "| 72.77818287037037|         142|       7|         1|              5|21.428571428571427|         1|     0|    0|\n",
      "|56.513576388888886|        1302|      81|        14|             59|136.71428571428572|        31|     0|    0|\n",
      "|110.75168981481481|        1744|     163|        29|             72| 81.17142857142858|        33|     1|    1|\n",
      "|23.556018518518517|         643|      58|         3|             24|136.66666666666666|        11|     1|    0|\n",
      "| 85.08340277777778|         233|      17|         3|              7|42.833333333333336|         6|     0|    1|\n",
      "|  66.8891087962963|        1299|      96|        17|             38|             120.5|        41|     1|    0|\n",
      "|23.872037037037035|          78|      11|         0|              1|              28.0|         3|     1|    0|\n",
      "|53.965937499999995|        1241|      86|        16|             61|             179.7|        29|     0|    1|\n",
      "|124.47825231481481|         534|      40|         9|             20|           40.4375|         6|     1|    0|\n",
      "| 66.62668981481481|        1332|      95|        24|             67|             138.0|        41|     0|    0|\n",
      "| 74.35851851851852|        2070|     303|        28|            113|59.540983606557376|        63|     1|    0|\n",
      "| 64.73886574074074|         207|      11|         5|              7|              46.0|         7|     0|    1|\n",
      "|60.104050925925925|        1804|     154|        22|             89| 89.05882352941177|        47|     0|    1|\n",
      "| 71.42444444444445|         865|      72|         9|             33|             125.0|        12|     1|    0|\n",
      "| 87.46262731481481|         195|       9|         3|              7| 23.88888888888889|         7|     0|    0|\n",
      "+------------------+------------+--------+----------+---------------+------------------+----------+------+-----+\n",
      "only showing top 20 rows\n",
      "\n"
     ]
    }
   ],
   "source": [
    "df_joined = reg_time.join(lis_artist,'userID','outer').join(thumbUp,'userID','outer').join(thumbDown,'userID','outer').join(add_playlist,'userID','outer').join(session_songs,'userID','outer').join(added_friends,'userID','outer').join(tot_gen,'userID','outer').join(churn,'userID','outer').drop('userID').fillna(0)\n",
    "\n",
    "df_joined.show()"
   ]
  },
  {
   "cell_type": "code",
   "execution_count": 91,
   "metadata": {},
   "outputs": [
    {
     "data": {
      "text/plain": [
       "225"
      ]
     },
     "execution_count": 91,
     "metadata": {},
     "output_type": "execute_result"
    }
   ],
   "source": [
    "df_joined.count()"
   ]
  },
  {
   "cell_type": "markdown",
   "metadata": {},
   "source": [
    "# Modeling\n",
    "Split the full dataset into train, test, and validation sets. Test out several of the machine learning methods you learned. Evaluate the accuracy of the various models, tuning parameters as necessary. Determine your winning model based on test accuracy and report results on the validation set. Since the churned users are a fairly small subset, I suggest using F1 score as the metric to optimize."
   ]
  },
  {
   "cell_type": "code",
   "execution_count": 118,
   "metadata": {},
   "outputs": [],
   "source": [
    "#converting to scaled values using standardsacler and vector assembler"
   ]
  },
  {
   "cell_type": "code",
   "execution_count": 116,
   "metadata": {},
   "outputs": [],
   "source": [
    "cols = df_joined.columns\n",
    "cols.remove('label')\n",
    "\n",
    "df_vector = VectorAssembler(inputCols=cols, outputCol=\"vectorised\").transform(df_joined)"
   ]
  },
  {
   "cell_type": "code",
   "execution_count": 142,
   "metadata": {},
   "outputs": [],
   "source": [
    "model_scal = StandardScaler(inputCol=\"vectorised\", outputCol=\"features\", withStd=True).fit(df_vector)\n",
    "df_scaled = model_scal.transform(df_vector)"
   ]
  },
  {
   "cell_type": "code",
   "execution_count": 143,
   "metadata": {},
   "outputs": [
    {
     "name": "stdout",
     "output_type": "stream",
     "text": [
      "+------------------+------------+--------+----------+---------------+------------------+----------+------+-----+------------------------------------------------------------------------+------------------------------------------------------------------------------------------------------------------------------------------------------------+\n",
      "|lifetime          |artist_count|thumbsUp|thumbsDown|add_to_playlist|avg_songs_played  |add_friend|gender|label|vectorised                                                              |features                                                                                                                                                    |\n",
      "+------------------+------------+--------+----------+---------------+------------------+----------+------+-----+------------------------------------------------------------------------+------------------------------------------------------------------------------------------------------------------------------------------------------------+\n",
      "|55.6436574074074  |252         |17      |5         |7              |39.285714285714285|4         |1     |0    |[55.6436574074074,252.0,17.0,5.0,7.0,39.285714285714285,4.0,1.0]        |[1.4774690786076046,0.4172517920296033,0.25962948736535013,0.38233662155526527,0.21395831049077527,0.9218672631996803,0.1943472477425475,2.0012710519236623]|\n",
      "|70.07462962962963 |339         |21      |6         |8              |64.5              |4         |0     |0    |[70.07462962962963,339.0,21.0,6.0,8.0,64.5,4.0,0.0]                     |[1.8606450994875738,0.5613030059445854,0.3207187785101384,0.4588039458663183,0.24452378341802888,1.5135384339442024,0.1943472477425475,0.0]                 |\n",
      "|71.31688657407408 |8           |0       |0         |0              |8.0               |0         |0     |1    |(8,[0,1,5],[71.31688657407408,8.0,8.0])                                 |(8,[0,1,5],[1.893629923070682,0.013246088635860421,0.18772569723338944])                                                                                    |\n",
      "|131.55591435185184|2232        |171     |41        |118            |145.67857142857142|74        |1     |0    |[131.55591435185184,2232.0,171.0,41.0,118.0,145.67857142857142,74.0,1.0]|[3.493116819041743,3.6956587294050576,2.6115671964396987,3.135160296753175,3.606725805415926,3.418451424174087,3.5954240832371287,2.0012710519236623]       |\n",
      "|19.455844907407407|1385        |100     |21        |52             |211.1             |28        |0     |1    |[19.455844907407407,1385.0,100.0,21.0,52.0,211.1,28.0,0.0]              |[0.5165981279485957,2.2932290950833356,1.5272322786197068,1.605813810532114,1.5894045922171878,4.953611835746064,1.3604307341978326,0.0]                    |\n",
      "+------------------+------------+--------+----------+---------------+------------------+----------+------+-----+------------------------------------------------------------------------+------------------------------------------------------------------------------------------------------------------------------------------------------------+\n",
      "only showing top 5 rows\n",
      "\n"
     ]
    }
   ],
   "source": [
    "df_scaled.show(5, False)"
   ]
  },
  {
   "cell_type": "code",
   "execution_count": null,
   "metadata": {},
   "outputs": [],
   "source": []
  },
  {
   "cell_type": "code",
   "execution_count": 144,
   "metadata": {},
   "outputs": [],
   "source": [
    "#splitting into test train\n",
    "train, test = df_scaled.randomSplit([0.7, 0.3])\n",
    "val, testVal = test.randomSplit([0.5, 0.5])"
   ]
  },
  {
   "cell_type": "code",
   "execution_count": 145,
   "metadata": {},
   "outputs": [
    {
     "data": {
      "text/plain": [
       "(169, 56, 30, 26)"
      ]
     },
     "execution_count": 145,
     "metadata": {},
     "output_type": "execute_result"
    }
   ],
   "source": [
    "train.count(), test.count(), val.count(), testVal.count()"
   ]
  },
  {
   "cell_type": "code",
   "execution_count": null,
   "metadata": {},
   "outputs": [],
   "source": []
  },
  {
   "cell_type": "markdown",
   "metadata": {},
   "source": [
    "## Base Line Model"
   ]
  },
  {
   "cell_type": "code",
   "execution_count": 154,
   "metadata": {},
   "outputs": [],
   "source": [
    "#baseline evaluator model\n",
    "evaluator = MulticlassClassificationEvaluator(predictionCol=\"prediction\")"
   ]
  },
  {
   "cell_type": "code",
   "execution_count": 149,
   "metadata": {},
   "outputs": [
    {
     "name": "stdout",
     "output_type": "stream",
     "text": [
      "Not Churn BaseLine Evaluation\n",
      "F1 Score: 0.8304552590266875\n",
      "Accuracy: 0.8846153846153846\n"
     ]
    }
   ],
   "source": [
    "#base line model for not Churn\n",
    "bl0 = testVal.withColumn('prediction', F.lit(0.0))\n",
    "\n",
    "print('Not Churn BaseLine Evaluation')\n",
    "print('F1 Score:', evaluator.evaluate(bl0, {evaluator.metricName: \"f1\"}))\n",
    "print('Accuracy:', evaluator.evaluate(bl0, {evaluator.metricName: \"accuracy\"}))"
   ]
  },
  {
   "cell_type": "code",
   "execution_count": 150,
   "metadata": {},
   "outputs": [
    {
     "name": "stdout",
     "output_type": "stream",
     "text": [
      "Churn BaseLine Evaluation\n",
      "F1 Score: 0.02387267904509284\n",
      "Accuracy: 0.11538461538461539\n"
     ]
    }
   ],
   "source": [
    "#base line model for Churn\n",
    "bl1 = testVal.withColumn('prediction', F.lit(1.0))\n",
    "\n",
    "print('Churn BaseLine Evaluation')\n",
    "print('F1 Score:', evaluator.evaluate(bl1, {evaluator.metricName: \"f1\"}))\n",
    "print('Accuracy:', evaluator.evaluate(bl1, {evaluator.metricName: \"accuracy\"}))"
   ]
  },
  {
   "cell_type": "code",
   "execution_count": null,
   "metadata": {},
   "outputs": [],
   "source": []
  },
  {
   "cell_type": "markdown",
   "metadata": {},
   "source": [
    "## Gradient Boost"
   ]
  },
  {
   "cell_type": "code",
   "execution_count": 146,
   "metadata": {},
   "outputs": [],
   "source": [
    "#initializing\n",
    "gbt = GBTClassifier(maxIter=5,seed=42)\n",
    "\n",
    "cv_gbt = CrossValidator(estimator=gbt,\n",
    "                          estimatorParamMaps=ParamGridBuilder().build(),\n",
    "                          evaluator=MulticlassClassificationEvaluator(metricName='f1'),\n",
    "                          numFolds=3)"
   ]
  },
  {
   "cell_type": "code",
   "execution_count": 147,
   "metadata": {},
   "outputs": [
    {
     "data": {
      "text/plain": [
       "[0.6930601590081977]"
      ]
     },
     "execution_count": 147,
     "metadata": {},
     "output_type": "execute_result"
    }
   ],
   "source": [
    "model = cv_gbt.fit(train)\n",
    "\n",
    "model.avgMetrics"
   ]
  },
  {
   "cell_type": "code",
   "execution_count": 152,
   "metadata": {},
   "outputs": [],
   "source": [
    "bgt_val = model.transform(val)"
   ]
  },
  {
   "cell_type": "code",
   "execution_count": 155,
   "metadata": {},
   "outputs": [
    {
     "name": "stdout",
     "output_type": "stream",
     "text": [
      "Gradient Boost Evaluation\n",
      "F1 Score: 0.743939393939394\n",
      "Accuracy: 0.7333333333333333\n"
     ]
    }
   ],
   "source": [
    "print('Gradient Boost Evaluation')\n",
    "print('F1 Score:', evaluator.evaluate(bgt_val, {evaluator.metricName: \"f1\"}))\n",
    "print('Accuracy:', evaluator.evaluate(bgt_val, {evaluator.metricName: \"accuracy\"}))"
   ]
  },
  {
   "cell_type": "code",
   "execution_count": null,
   "metadata": {},
   "outputs": [],
   "source": []
  },
  {
   "cell_type": "markdown",
   "metadata": {},
   "source": [
    "## SVM"
   ]
  },
  {
   "cell_type": "code",
   "execution_count": 156,
   "metadata": {},
   "outputs": [],
   "source": [
    "#initializing\n",
    "svm = LinearSVC(maxIter=5)\n",
    "\n",
    "cv_svm = CrossValidator(estimator=svm,\n",
    "                          estimatorParamMaps=ParamGridBuilder().build(),\n",
    "                          evaluator=MulticlassClassificationEvaluator(metricName='f1'),\n",
    "                          numFolds=3)"
   ]
  },
  {
   "cell_type": "code",
   "execution_count": 157,
   "metadata": {},
   "outputs": [
    {
     "data": {
      "text/plain": [
       "[0.6467248631106551]"
      ]
     },
     "execution_count": 157,
     "metadata": {},
     "output_type": "execute_result"
    }
   ],
   "source": [
    "model_svm = cv_svm.fit(train)\n",
    "\n",
    "model_svm.avgMetrics"
   ]
  },
  {
   "cell_type": "code",
   "execution_count": 158,
   "metadata": {},
   "outputs": [],
   "source": [
    "val_svm = model_svm.transform(val)"
   ]
  },
  {
   "cell_type": "code",
   "execution_count": 159,
   "metadata": {},
   "outputs": [
    {
     "name": "stdout",
     "output_type": "stream",
     "text": [
      "SVM Evaluation\n",
      "F1 Score: 0.6654088050314467\n",
      "Accuracy: 0.7666666666666667\n"
     ]
    }
   ],
   "source": [
    "print('SVM Evaluation')\n",
    "print('F1 Score:', evaluator.evaluate(val_svm, {evaluator.metricName: \"f1\"}))\n",
    "print('Accuracy:', evaluator.evaluate(val_svm, {evaluator.metricName: \"accuracy\"}))"
   ]
  },
  {
   "cell_type": "code",
   "execution_count": null,
   "metadata": {},
   "outputs": [],
   "source": []
  },
  {
   "cell_type": "markdown",
   "metadata": {},
   "source": [
    "## Random Forest"
   ]
  },
  {
   "cell_type": "code",
   "execution_count": 162,
   "metadata": {},
   "outputs": [],
   "source": [
    "#initializing\n",
    "rf = RandomForestClassifier()\n",
    "\n",
    "cv_rf = CrossValidator(estimator=rf,\n",
    "                          estimatorParamMaps=ParamGridBuilder().build(),\n",
    "                          evaluator=MulticlassClassificationEvaluator(metricName='f1'),\n",
    "                          numFolds=3)"
   ]
  },
  {
   "cell_type": "code",
   "execution_count": 163,
   "metadata": {},
   "outputs": [
    {
     "data": {
      "text/plain": [
       "[0.723260898762692]"
      ]
     },
     "execution_count": 163,
     "metadata": {},
     "output_type": "execute_result"
    }
   ],
   "source": [
    "model_rf = cv_rf.fit(train)\n",
    "\n",
    "model_rf.avgMetrics"
   ]
  },
  {
   "cell_type": "code",
   "execution_count": 164,
   "metadata": {},
   "outputs": [],
   "source": [
    "val_rf = model_rf.transform(val)"
   ]
  },
  {
   "cell_type": "code",
   "execution_count": 165,
   "metadata": {},
   "outputs": [
    {
     "name": "stdout",
     "output_type": "stream",
     "text": [
      "Random Forest Evaluation\n",
      "F1 Score: 0.7132897603485837\n",
      "Accuracy: 0.7666666666666667\n"
     ]
    }
   ],
   "source": [
    "print('Random Forest Evaluation')\n",
    "print('F1 Score:', evaluator.evaluate(val_rf, {evaluator.metricName: \"f1\"}))\n",
    "print('Accuracy:', evaluator.evaluate(val_rf, {evaluator.metricName: \"accuracy\"}))"
   ]
  },
  {
   "cell_type": "markdown",
   "metadata": {},
   "source": [
    "Out of Gradient Boost, SVM and Random Forest:\n",
    "- Gradient Boost have the worst accuracy of all three (Accuracy: 0.7333333333333333)\n",
    "- SVM and Random Forest have similar accuracies (Accuracy: 0.7666666666666667) but F1 score of Random Forest(F1 Score: 0.7132897603485837) is better than F1 score of SVM(F1 Score: 0.6654088050314467). Therefore, exploring the important values of Random Forest."
   ]
  },
  {
   "cell_type": "code",
   "execution_count": null,
   "metadata": {},
   "outputs": [],
   "source": []
  },
  {
   "cell_type": "code",
   "execution_count": 188,
   "metadata": {},
   "outputs": [
    {
     "data": {
      "image/png": "[encoded data removed]",
      "text/plain": [
       "<matplotlib.figure.Figure at 0x7fd76e6dc0b8>"
      ]
     },
     "metadata": {
      "needs_background": "light"
     },
     "output_type": "display_data"
    }
   ],
   "source": [
    "#plotting important values for random forest to analyse it\n",
    "y_pos = np.arange(len(cols))\n",
    " \n",
    "plt.bar( y_pos,model_rf.bestModel.featureImportances.values, align='center')\n",
    "\n",
    "plt.ylabel('Importance')\n",
    "plt.xlabel('Attributes')\n",
    "plt.xticks(y_pos, cols, rotation=90)\n",
    "plt.title('Random Forest Importance Values');"
   ]
  },
  {
   "cell_type": "markdown",
   "metadata": {},
   "source": [
    "From the raph, we can see that liftetime, thumbsDown, thumbsUp, add_friend, avg_songs_played, add_to_playlist have a considerabe amount of infulence on the churn prediction. \n",
    "The result is kind of obvious and follows human behaviour. \n",
    "- Not churned used will spend more time in comparision to Churned user\n",
    "- thumbsDown shows that, proper recomendation of songs was not given to the user. Hence, more likely to churn\n",
    "- thumbsUp shows that, proper recomendation of songs was given to the user. Hence, more likely to stay\n",
    "- add_friend shows that, more interaction with app. \n",
    "- avg_songs_played and add_to_playlist shows user spent more time on app and listened and saved more songs.\n"
   ]
  },
  {
   "cell_type": "code",
   "execution_count": null,
   "metadata": {},
   "outputs": [],
   "source": []
  },
  {
   "cell_type": "markdown",
   "metadata": {},
   "source": [
    "# Final Steps\n",
    "Clean up your code, adding comments and renaming variables to make the code easier to read and maintain. Refer to the Spark Project Overview page and Data Scientist Capstone Project Rubric to make sure you are including all components of the capstone project and meet all expectations. Remember, this includes thorough documentation in a README file in a Github repository, as well as a web app or blog post."
   ]
  },
  {
   "cell_type": "code",
   "execution_count": null,
   "metadata": {},
   "outputs": [],
   "source": []
  }
 ],
 "metadata": {
  "kernelspec": {
   "display_name": "Python 3",
   "language": "python",
   "name": "python3"
  },
  "language_info": {
   "codemirror_mode": {
    "name": "ipython",
    "version": 3
   },
   "file_extension": ".py",
   "mimetype": "text/x-python",
   "name": "python",
   "nbconvert_exporter": "python",
   "pygments_lexer": "ipython3",
   "version": "3.6.3"
  }
 },
 "nbformat": 4,
 "nbformat_minor": 2
}
